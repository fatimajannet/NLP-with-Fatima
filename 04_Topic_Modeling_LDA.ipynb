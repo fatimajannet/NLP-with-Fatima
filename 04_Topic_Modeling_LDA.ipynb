{
  "nbformat": 4,
  "nbformat_minor": 0,
  "metadata": {
    "colab": {
      "provenance": []
    },
    "kernelspec": {
      "name": "python3",
      "display_name": "Python 3"
    },
    "language_info": {
      "name": "python"
    }
  },
  "cells": [
    {
      "cell_type": "code",
      "execution_count": 1,
      "metadata": {
        "id": "PAqXGerEc7Eg"
      },
      "outputs": [],
      "source": [
        "import pandas as pd"
      ]
    },
    {
      "cell_type": "code",
      "source": [
        "npr = pd.read_csv('npr.csv')"
      ],
      "metadata": {
        "id": "pXKDEgrMS7_3"
      },
      "execution_count": 2,
      "outputs": []
    },
    {
      "cell_type": "code",
      "source": [
        "npr.head()"
      ],
      "metadata": {
        "colab": {
          "base_uri": "https://localhost:8080/",
          "height": 206
        },
        "id": "7vtp15KDTBX2",
        "outputId": "28dac0d9-35fa-4069-dd45-66e4c5e113a4"
      },
      "execution_count": 3,
      "outputs": [
        {
          "output_type": "execute_result",
          "data": {
            "text/plain": [
              "                                             Article\n",
              "0  In the Washington of 2016, even when the polic...\n",
              "1    Donald Trump has used Twitter  —   his prefe...\n",
              "2    Donald Trump is unabashedly praising Russian...\n",
              "3  Updated at 2:50 p. m. ET, Russian President Vl...\n",
              "4  From photography, illustration and video, to d..."
            ],
            "text/html": [
              "\n",
              "  <div id=\"df-f2801577-9d92-4142-b578-868fd65595ab\" class=\"colab-df-container\">\n",
              "    <div>\n",
              "<style scoped>\n",
              "    .dataframe tbody tr th:only-of-type {\n",
              "        vertical-align: middle;\n",
              "    }\n",
              "\n",
              "    .dataframe tbody tr th {\n",
              "        vertical-align: top;\n",
              "    }\n",
              "\n",
              "    .dataframe thead th {\n",
              "        text-align: right;\n",
              "    }\n",
              "</style>\n",
              "<table border=\"1\" class=\"dataframe\">\n",
              "  <thead>\n",
              "    <tr style=\"text-align: right;\">\n",
              "      <th></th>\n",
              "      <th>Article</th>\n",
              "    </tr>\n",
              "  </thead>\n",
              "  <tbody>\n",
              "    <tr>\n",
              "      <th>0</th>\n",
              "      <td>In the Washington of 2016, even when the polic...</td>\n",
              "    </tr>\n",
              "    <tr>\n",
              "      <th>1</th>\n",
              "      <td>Donald Trump has used Twitter  —   his prefe...</td>\n",
              "    </tr>\n",
              "    <tr>\n",
              "      <th>2</th>\n",
              "      <td>Donald Trump is unabashedly praising Russian...</td>\n",
              "    </tr>\n",
              "    <tr>\n",
              "      <th>3</th>\n",
              "      <td>Updated at 2:50 p. m. ET, Russian President Vl...</td>\n",
              "    </tr>\n",
              "    <tr>\n",
              "      <th>4</th>\n",
              "      <td>From photography, illustration and video, to d...</td>\n",
              "    </tr>\n",
              "  </tbody>\n",
              "</table>\n",
              "</div>\n",
              "    <div class=\"colab-df-buttons\">\n",
              "\n",
              "  <div class=\"colab-df-container\">\n",
              "    <button class=\"colab-df-convert\" onclick=\"convertToInteractive('df-f2801577-9d92-4142-b578-868fd65595ab')\"\n",
              "            title=\"Convert this dataframe to an interactive table.\"\n",
              "            style=\"display:none;\">\n",
              "\n",
              "  <svg xmlns=\"http://www.w3.org/2000/svg\" height=\"24px\" viewBox=\"0 -960 960 960\">\n",
              "    <path d=\"M120-120v-720h720v720H120Zm60-500h600v-160H180v160Zm220 220h160v-160H400v160Zm0 220h160v-160H400v160ZM180-400h160v-160H180v160Zm440 0h160v-160H620v160ZM180-180h160v-160H180v160Zm440 0h160v-160H620v160Z\"/>\n",
              "  </svg>\n",
              "    </button>\n",
              "\n",
              "  <style>\n",
              "    .colab-df-container {\n",
              "      display:flex;\n",
              "      gap: 12px;\n",
              "    }\n",
              "\n",
              "    .colab-df-convert {\n",
              "      background-color: #E8F0FE;\n",
              "      border: none;\n",
              "      border-radius: 50%;\n",
              "      cursor: pointer;\n",
              "      display: none;\n",
              "      fill: #1967D2;\n",
              "      height: 32px;\n",
              "      padding: 0 0 0 0;\n",
              "      width: 32px;\n",
              "    }\n",
              "\n",
              "    .colab-df-convert:hover {\n",
              "      background-color: #E2EBFA;\n",
              "      box-shadow: 0px 1px 2px rgba(60, 64, 67, 0.3), 0px 1px 3px 1px rgba(60, 64, 67, 0.15);\n",
              "      fill: #174EA6;\n",
              "    }\n",
              "\n",
              "    .colab-df-buttons div {\n",
              "      margin-bottom: 4px;\n",
              "    }\n",
              "\n",
              "    [theme=dark] .colab-df-convert {\n",
              "      background-color: #3B4455;\n",
              "      fill: #D2E3FC;\n",
              "    }\n",
              "\n",
              "    [theme=dark] .colab-df-convert:hover {\n",
              "      background-color: #434B5C;\n",
              "      box-shadow: 0px 1px 3px 1px rgba(0, 0, 0, 0.15);\n",
              "      filter: drop-shadow(0px 1px 2px rgba(0, 0, 0, 0.3));\n",
              "      fill: #FFFFFF;\n",
              "    }\n",
              "  </style>\n",
              "\n",
              "    <script>\n",
              "      const buttonEl =\n",
              "        document.querySelector('#df-f2801577-9d92-4142-b578-868fd65595ab button.colab-df-convert');\n",
              "      buttonEl.style.display =\n",
              "        google.colab.kernel.accessAllowed ? 'block' : 'none';\n",
              "\n",
              "      async function convertToInteractive(key) {\n",
              "        const element = document.querySelector('#df-f2801577-9d92-4142-b578-868fd65595ab');\n",
              "        const dataTable =\n",
              "          await google.colab.kernel.invokeFunction('convertToInteractive',\n",
              "                                                    [key], {});\n",
              "        if (!dataTable) return;\n",
              "\n",
              "        const docLinkHtml = 'Like what you see? Visit the ' +\n",
              "          '<a target=\"_blank\" href=https://colab.research.google.com/notebooks/data_table.ipynb>data table notebook</a>'\n",
              "          + ' to learn more about interactive tables.';\n",
              "        element.innerHTML = '';\n",
              "        dataTable['output_type'] = 'display_data';\n",
              "        await google.colab.output.renderOutput(dataTable, element);\n",
              "        const docLink = document.createElement('div');\n",
              "        docLink.innerHTML = docLinkHtml;\n",
              "        element.appendChild(docLink);\n",
              "      }\n",
              "    </script>\n",
              "  </div>\n",
              "\n",
              "\n",
              "    <div id=\"df-31915292-3933-4a11-8760-e25b912fca67\">\n",
              "      <button class=\"colab-df-quickchart\" onclick=\"quickchart('df-31915292-3933-4a11-8760-e25b912fca67')\"\n",
              "                title=\"Suggest charts\"\n",
              "                style=\"display:none;\">\n",
              "\n",
              "<svg xmlns=\"http://www.w3.org/2000/svg\" height=\"24px\"viewBox=\"0 0 24 24\"\n",
              "     width=\"24px\">\n",
              "    <g>\n",
              "        <path d=\"M19 3H5c-1.1 0-2 .9-2 2v14c0 1.1.9 2 2 2h14c1.1 0 2-.9 2-2V5c0-1.1-.9-2-2-2zM9 17H7v-7h2v7zm4 0h-2V7h2v10zm4 0h-2v-4h2v4z\"/>\n",
              "    </g>\n",
              "</svg>\n",
              "      </button>\n",
              "\n",
              "<style>\n",
              "  .colab-df-quickchart {\n",
              "      --bg-color: #E8F0FE;\n",
              "      --fill-color: #1967D2;\n",
              "      --hover-bg-color: #E2EBFA;\n",
              "      --hover-fill-color: #174EA6;\n",
              "      --disabled-fill-color: #AAA;\n",
              "      --disabled-bg-color: #DDD;\n",
              "  }\n",
              "\n",
              "  [theme=dark] .colab-df-quickchart {\n",
              "      --bg-color: #3B4455;\n",
              "      --fill-color: #D2E3FC;\n",
              "      --hover-bg-color: #434B5C;\n",
              "      --hover-fill-color: #FFFFFF;\n",
              "      --disabled-bg-color: #3B4455;\n",
              "      --disabled-fill-color: #666;\n",
              "  }\n",
              "\n",
              "  .colab-df-quickchart {\n",
              "    background-color: var(--bg-color);\n",
              "    border: none;\n",
              "    border-radius: 50%;\n",
              "    cursor: pointer;\n",
              "    display: none;\n",
              "    fill: var(--fill-color);\n",
              "    height: 32px;\n",
              "    padding: 0;\n",
              "    width: 32px;\n",
              "  }\n",
              "\n",
              "  .colab-df-quickchart:hover {\n",
              "    background-color: var(--hover-bg-color);\n",
              "    box-shadow: 0 1px 2px rgba(60, 64, 67, 0.3), 0 1px 3px 1px rgba(60, 64, 67, 0.15);\n",
              "    fill: var(--button-hover-fill-color);\n",
              "  }\n",
              "\n",
              "  .colab-df-quickchart-complete:disabled,\n",
              "  .colab-df-quickchart-complete:disabled:hover {\n",
              "    background-color: var(--disabled-bg-color);\n",
              "    fill: var(--disabled-fill-color);\n",
              "    box-shadow: none;\n",
              "  }\n",
              "\n",
              "  .colab-df-spinner {\n",
              "    border: 2px solid var(--fill-color);\n",
              "    border-color: transparent;\n",
              "    border-bottom-color: var(--fill-color);\n",
              "    animation:\n",
              "      spin 1s steps(1) infinite;\n",
              "  }\n",
              "\n",
              "  @keyframes spin {\n",
              "    0% {\n",
              "      border-color: transparent;\n",
              "      border-bottom-color: var(--fill-color);\n",
              "      border-left-color: var(--fill-color);\n",
              "    }\n",
              "    20% {\n",
              "      border-color: transparent;\n",
              "      border-left-color: var(--fill-color);\n",
              "      border-top-color: var(--fill-color);\n",
              "    }\n",
              "    30% {\n",
              "      border-color: transparent;\n",
              "      border-left-color: var(--fill-color);\n",
              "      border-top-color: var(--fill-color);\n",
              "      border-right-color: var(--fill-color);\n",
              "    }\n",
              "    40% {\n",
              "      border-color: transparent;\n",
              "      border-right-color: var(--fill-color);\n",
              "      border-top-color: var(--fill-color);\n",
              "    }\n",
              "    60% {\n",
              "      border-color: transparent;\n",
              "      border-right-color: var(--fill-color);\n",
              "    }\n",
              "    80% {\n",
              "      border-color: transparent;\n",
              "      border-right-color: var(--fill-color);\n",
              "      border-bottom-color: var(--fill-color);\n",
              "    }\n",
              "    90% {\n",
              "      border-color: transparent;\n",
              "      border-bottom-color: var(--fill-color);\n",
              "    }\n",
              "  }\n",
              "</style>\n",
              "\n",
              "      <script>\n",
              "        async function quickchart(key) {\n",
              "          const quickchartButtonEl =\n",
              "            document.querySelector('#' + key + ' button');\n",
              "          quickchartButtonEl.disabled = true;  // To prevent multiple clicks.\n",
              "          quickchartButtonEl.classList.add('colab-df-spinner');\n",
              "          try {\n",
              "            const charts = await google.colab.kernel.invokeFunction(\n",
              "                'suggestCharts', [key], {});\n",
              "          } catch (error) {\n",
              "            console.error('Error during call to suggestCharts:', error);\n",
              "          }\n",
              "          quickchartButtonEl.classList.remove('colab-df-spinner');\n",
              "          quickchartButtonEl.classList.add('colab-df-quickchart-complete');\n",
              "        }\n",
              "        (() => {\n",
              "          let quickchartButtonEl =\n",
              "            document.querySelector('#df-31915292-3933-4a11-8760-e25b912fca67 button');\n",
              "          quickchartButtonEl.style.display =\n",
              "            google.colab.kernel.accessAllowed ? 'block' : 'none';\n",
              "        })();\n",
              "      </script>\n",
              "    </div>\n",
              "\n",
              "    </div>\n",
              "  </div>\n"
            ],
            "application/vnd.google.colaboratory.intrinsic+json": {
              "type": "dataframe",
              "variable_name": "npr",
              "summary": "{\n  \"name\": \"npr\",\n  \"rows\": 11992,\n  \"fields\": [\n    {\n      \"column\": \"Article\",\n      \"properties\": {\n        \"dtype\": \"string\",\n        \"num_unique_values\": 11991,\n        \"samples\": [\n          \"Last week, physicists at the National Institute for Standards and Technology reported they\\u2019d cooled an object to a million times colder than room temperature. It was a record for the   science of  . In this field, researchers inch ever closer to  \\u2014   but never reach  \\u2014   the state of absolute zero temperature. It\\u2019s a science that has some very cool (pun very much intended) applications including   gravity wave detectors for \\u201dhearing\\u201d distant black hole mergers. But moving beyond these applications, why is   so hard to begin with? Why can\\u2019t we just get to absolute zero degrees and be done with it? The answer to this question drops us straight into one of the quantum universe\\u2019s most startling features: The world never rests. To see what this means, let\\u2019s remind ourselves about the meaning of \\u201dtemperature.\\u201d Without getting too technical (we should really be talking about entropy here) temperature for physicists is a measure of random motion. Imagine the gas molecules in the air around you are little cue balls of matter. The higher the air temperature, the faster those little orbs of matter will be ricocheting around the room, bouncing off the walls and each other. So cooling the air means finding some means to slow the molecules down. From this perspective, there there\\u2019s no conceptual reason why you shouldn\\u2019t be able bring them entirely to a halt. Do that, and the air would have a temperature of \\u201dabsolute zero\\u201d degrees (as measured in units called Kelvins. In Fahrenheit, this would be  . 67 degrees). But, it turns out, nature doesn\\u2019t work that way. The universe doesn\\u2019t \\u201ddo\\u201d zero temperatures because it doesn\\u2019t do zero motion. Thinking about matter and motion in the way we described above is what we physicists call \\u201da classical picture.\\u201d In classical physics, matter is made of tiny particles of \\u201dstuff\\u201d and motion is just the change in the particles position with time. It all makes intuitive sense based on our experience of the world at the scale of baseballs and boulders. But a hundred years or so ago, physicists began probing the world on the scale of atoms. What they found was the classical, intuitive picture didn\\u2019t work well for explaining their experiments. In response, they developed a new kind of physics. In an astonishing burst of creativity, they kept key principles from the classical world  \\u2014   like the conservation of energy  \\u2014   but added new rules. One of these was the Uncertainty Principle, which essentially told us that reality is fuzzy at its root level. To be exact, certain pairs of properties  \\u2014   like motion and position  \\u2014   can never be known exactly. The Uncertainty Principle isn\\u2019t saying there\\u2019s something wrong with our instruments. Instead, it tells us there\\u2019s something wrong with our classical intuitions. In particular, when it comes to motion, it tells us it\\u2019s impossible to know the position and the motion of a particle exactly. The more you lock in the position of a particle, the wider the range of velocities the particle can have. So what does this have to do with temperature? Absolute zero should mean bringing particles to a halt. But that would imply you knew exactly where they were. You had them perfectly \\u201dlocalized.\\u201d If that\\u2019s the case, then the Uncertainty Principle demands there must be some uncertainty in their motion. They can\\u2019t be perfectly known to be perfectly at rest. The deeper meaning of this this quantum logic is that the universe can never be at rest. There is a \\u201dfloor\\u201d to how much things can be slowed down (or cooled). It\\u2019s impossible to go below that floor (though scientists do get ever more clever in skirting its edges). The implications of this can get pretty strange. Imagine we put a particle, like an electron, in a box. Now we ask: What\\u2019s the lowest energy state of the electron + box system? In classical physics, it would just be the electron sitting there unmoving  \\u2014   i. e. zero motion, hence zero energy. But quantum physics won\\u2019t allow such a thing as zero energy (because of the Uncertainty Principle). Instead, the system has   \\u201dground state\\u201d energy with the electron bouncing back and forth between the box walls. That\\u2019s as low as you can go. The electron can\\u2019t be stopped. Take this idea further, and you get to the delicious idea of vacuum energy. There the Uncertainty Principle demands that there can be no pure and perfect vacuum with a state of zero energy. Thus, in quantum physics, the vacuum is not empty but is a seething froth of \\u201dvirtual particles\\u201d that are never manifested and yet have a verifiable effect on the particles we do see. No vacuum. No zero energy. No zero temperature. No common sense expectation about the world\\u2019s behavior. The discovery that the quantum world was the foundation for our   classical experience was a triumph of science. It was a validation of science\\u2019s ability to take us beyond our limited senses and limited concepts. There is no way to \\u201dpicture\\u201d this quantum world with our classical imaginations. Instead, what we found was a new frontier. At its root, quantum physics showed us that this world we inhabit is dynamic to its very core: buzzing, roaring, shuddering and trembling like an infinite Jackson Pollack painting. It is not just richer than we imagined, but stranger and more wonderful than we can imagine. That view, hidden in the impossibility of absolute zero temperature, is a gift that science has given us all. Now what are we to make of it? Adam Frank is a   of the 13. 7 blog, an astrophysics professor at the University of Rochester, a book author and a   \\u201devangelist of science.\\u201d You can keep up with more of what Adam is thinking on Facebook and Twitter: @adamfrank4\",\n          \"President Trump hosted Russian Foreign Minister Sergey Lavrov at the White House on Wednesday, one day after firing the man whose agency is investigating Russia\\u2019s meddling in the 2016 election that brought Trump to power. Trump fired   FBI Director James Comey, who told Congress earlier this year that his agency has been investigating Russia\\u2019s actions  \\u2014   and possible ties to anyone associated with the Trump campaign  \\u2014   since July. As NPR\\u2019s Domenico Montanaro reports, the firing of Comey with more than six years left on his term in office has prompted a flurry of questions about the president\\u2019s motives  \\u2014   and about what\\u2019s next. Lavrov\\u2019s meeting with the president was scheduled for 10:30 a. m. ET, and it was declared closed to the press. Russian agencies tweeted photos from the Oval Office showing that in addition to Lavrov, Trump shook hands with Russia\\u2019s ambassador to America, Sergey Kislyak  \\u2014   a key figure in the investigation into Trump\\u2019s ousted national security adviser, Michael Flynn. After the Lavrov session had concluded, members of the U. S. media were allowed into the Oval Office, where they found the president sitting with Henry Kissinger, who served as President Richard Nixon\\u2019s secretary of state. The meeting hadn\\u2019t been listed on the president\\u2019s official schedule. Trump said he and Kissinger had met to talk \\u201dabout Russia and various other matters,\\u201d according to the pool report. To a question about Comey, Trump reportedly replied, \\u201dHe wasn\\u2019t doing a good job. Very simply. He was not doing a good job.\\u201d The president also said the issue had not affected his meeting with Lavrov. Lavrov arrived in Washington on Tuesday. He met with Secretary of State Rex Tillerson at the White House early Wednesday, ahead of his visit to the Oval Office. Tillerson and Lavrov made a brief appearance Wednesday morning for a   and as Tillerson began to lead his guest back behind closed doors, Lavrov responded to a question about Comey\\u2019s firing. When a reporter asked whether the dismissal has \\u201dcast a shadow\\u201d over their talks, Lavrov stopped and seemed to look genuinely quizzical when he responded, \\u201dWas he fired?\\u201d  \\u2014   but then adopted a deadpan tone as he told the reporter, \\u201dYou are kidding, you are kidding.\\u201d With a theatrical twitch of his head, the Russian diplomat then followed his American counterpart away from the media. The exchange was not included in the State Department\\u2019s brief video snippet from the   that it posted to Twitter. Tillerson\\u2019s office said his talks with Lavrov would focus on \\u201dUkraine, Syria, and bilateral issues.\\u201d But the Russians\\u2019 visit to the White House also came as the Kremlin made its first public comments on Comey\\u2019s removal. When Russian presidential spokesman Dmitry Peskov was asked how the firing might affect U. S.  relations, Peskov replied, \\u201dWe hope that it will not affect them at all. That\\u2019s the United States\\u2019 internal affair. That\\u2019s the U. S. president\\u2019s independent decision, which has nothing to do and should have nothing to do with Russia.\\u201d Comey\\u2019s dismissal has sparked new calls for an independent probe into Russia\\u2019s attempts to influence last year\\u2019s U. S. presidential election  \\u2014   despite the Trump administration\\u2019s assertion that Comey was removed over his handling of the investigation into Clinton\\u2019s private email server. \\u201dThis is nothing less than Nixonian,\\u201d said Patrick Leahy,  . a longtime member of the Senate Judiciary Committee. Announcing Comey\\u2019s abrupt firing Tuesday afternoon, White House press secretary Sean Spicer said the president \\u201dacted based on the clear recommendations of both Deputy Attorney General Rod Rosenstein and Attorney General Jeff Sessions.\\u201d\",\n          \"Republican presidential nominee Donald Trump has been calling for a criminal investigation of his political opponent Hillary Clinton on the campaign trail this year. Trump is angry the FBI probe of Clinton\\u2019s email server ended with no charges. Now, he says, an independent outsider needs to look at the Clinton Foundation. \\u201dThe Justice Department is required to appoint an independent special prosecutor because it has proven itself to be really, sadly, a political arm of the White House,\\u201d Trump said in Akron, Ohio, last week. Trump has offered no evidence to back up his claims that the Justice Department has been corrupted. But his call for a special prosecutor sounds familiar to people who study the intersection of law and politics. \\u201dIf you look at the chronology, pretty much the political party that does not control the White House tends to want special prosecutors and independent counsel laws,\\u201d said Ken Gormley, president of Duquesne University in Pittsburgh and the author of two books on special prosecutors. \\u201dAs soon as the party is in the White House, they don\\u2019t want it anymore.\\u201d In modern times, the idea first cropped up during the 1970s. President Richard Nixon notoriously fired a special prosecutor who was getting close to the tapes that would bring down his administration. Five months after what became known as the Saturday Night Massacre, Congress started work on an independent counsel law. The idea was to insulate sensitive criminal investigations from meddling by the White House. The law would stand for about 20 years. It didn\\u2019t produce many criminal convictions, but it did stir up a lot of trouble for presidents  \\u2014   and the people close to them. In 1996, Hillary Clinton became the first sitting first lady to testify before a grand jury. This one was investigating the Whitewater affair, an investigation that began with a real estate investment and morphed into scrutiny of President Bill Clinton\\u2019s sexual improprieties. Hillary Clinton was never charged with wrongdoing, but the investigation left a mark. Years later, Gormley interviewed Bill Clinton about it. \\u201dHe made clear that his decision to allow and endorse the appointment of an independent counsel in the Whitewater matter was one of the biggest mistakes of his presidency,\\u201d Gormley said. \\u201dIn fact, the words he used at one point is that it was like Wile E. Coyote and the Road Runner. And almost from the moment he was in the White House, there were political opponents using special prosecutors to bring him down, and they were off to the races.\\u201d By 1999, when Congress considered whether to renew the statute, opposition came from nearly all sides. Even Whitewater independent counsel Ken Starr told Congress the law had become a political weapon. \\u201dThe statutory mechanism intended to enhance confidence in law enforcement had the effect of weakening it,\\u201d Starr said, in arguing the law should not be reauthorized. \\u201dJurisdiction and authority over these sensitive matters ought to be returned to the Justice Department. And who will oversee them? The Congress, the press, the public.\\u201d That\\u2019s exactly what happened. The law expired. But the Justice Department can still use special prosecutors. They\\u2019re career lawyers, protected from political leaders at Justice by a firewall. During the George W. Bush years, special prosecutor Patrick Fitzgerald charged and convicted a top aide to the vice president. Justice Department leaders went on to deploy special prosecutors to investigate the firings of U. S. attorneys and the destruction of videotapes that showed torture of detainees. But authorities have relied on those prosecutors only sparingly, a position adopted by many, including Gormley. \\u201dI think I\\u2019ve come to the conclusion that we are better off when we have less of these investigations rather than more,\\u201d he said. \\u201dThey should be reserved for very special and extreme occasions.\\u201d Otherwise, Gormley argued, they could distract from what\\u2019s really important. \\u201dAs we as a country were just obsessed with the issue of Whitewater, Paula Jones, Monica Lewinsky and all of these distractions during the 1990s, there were people inside and outside the country literally plotting our attack,\\u201d he said. One of them, Gormley said, was Osama bin Laden.\"\n        ],\n        \"semantic_type\": \"\",\n        \"description\": \"\"\n      }\n    }\n  ]\n}"
            }
          },
          "metadata": {},
          "execution_count": 3
        }
      ]
    },
    {
      "cell_type": "code",
      "source": [
        "# Printing article\n",
        "npr['Article'][0]"
      ],
      "metadata": {
        "colab": {
          "base_uri": "https://localhost:8080/",
          "height": 192
        },
        "id": "8gNvRSXtUdyG",
        "outputId": "a0c5fb98-b7e9-447d-97df-e373eb785010"
      },
      "execution_count": 4,
      "outputs": [
        {
          "output_type": "execute_result",
          "data": {
            "text/plain": [
              "'In the Washington of 2016, even when the policy can be bipartisan, the politics cannot. And in that sense, this year shows little sign of ending on Dec. 31. When President Obama moved to sanction Russia over its alleged interference in the U. S. election just concluded, some Republicans who had long called for similar or more severe measures could scarcely bring themselves to approve. House Speaker Paul Ryan called the Obama measures ”appropriate” but also ”overdue” and ”a prime example of this administration’s ineffective foreign policy that has left America weaker in the eyes of the world.” Other GOP leaders sounded much the same theme. ”[We have] been urging President Obama for years to take strong action to deter Russia’s worldwide aggression, including its   operations,” wrote Rep. Devin Nunes,  . chairman of the House Intelligence Committee. ”Now with just a few weeks left in office, the president has suddenly decided that some stronger measures are indeed warranted.” Appearing on CNN, frequent Obama critic Trent Franks,  . called for ”much tougher” actions and said three times that Obama had ”finally found his tongue.” Meanwhile, at    and on Fox News, various spokesmen for   Trump said Obama’s real target was not the Russians at all but the man poised to take over the White House in less than three weeks. They spoke of Obama trying to ”tie Trump’s hands” or ”box him in,” meaning the   would be forced either to keep the sanctions or be at odds with Republicans who want to be tougher still on Moscow. Throughout 2016, Trump has repeatedly called not for sanctions but for closer ties with Russia, including cooperation in the fight against ISIS. Russia has battled ISIS in Syria on behalf of that country’s embattled dictator, Bashar Assad, bombing the besieged   city of Aleppo that fell to Assad’s forces this week. During the campaign, Trump even urged Russia to ”find” missing emails from the private server of his opponent, Hillary Clinton. He has exchanged public encomiums with Russian President Vladimir Putin on several occasions and added his doubts about the current U. S. levels of support for NATO  —   Putin’s longtime nemesis. There have also been suggestions that Trump’s extensive business dealings with various Russians are the reason he refuses to release his tax returns. All those issues have been disquieting to some Republicans for many months. Sens. John McCain,  . and Lindsay Graham,  . C. prominent senior members of the Armed Services Committee, have accepted the assessment of 17 U. S. intelligence agencies regarding the role of Russia in the hacking of various Democratic committees last year. That includes the FBI and CIA consensus that the Russian goal was not just to discredit American democracy but to defeat Clinton and elect Trump. They say the great majority of their Senate colleagues agree with them, and McCain has slated an Armed Services hearing on cyberthreats for Jan. 5. But the politicizing of the Russian actions  —   the idea that they helped Trump win  —   has also made the issue difficult for Republican leaders. It has allowed Trump supporters to push back on the intelligence agencies and say the entire issue is designed to undermine Trump’s legitimacy. Senate Majority Leader Mitch McConnell has so far resisted calls for a select committee to look into the Russian interference in the 2016 campaign. He has said it is enough for Sen. Richard Burr,  . C. to look into it as chairman of the Senate Intelligence Committee. Typically, Republican leaders and spokesmen say there is no evidence that the actual voting or tallying on Nov. 8 was compromised, and that is true. But it is also a red herring, as interference in those functions has not been alleged and is not the focus of the U. S. intelligence agencies’ concern. For his part, Trump has shown little interest in delving into what happened. He has cast doubt on the U. S. intelligence reports to date and suggested ”no one really knows what happened.” He also has suggested that computers make it very difficult to know who is using them. This week, Trump said it was time to ”get on with our lives and do more important things.” However, at week’s end he did agree to have an intelligence briefing on the subject next week. The   has not wanted the daily intelligence briefings available to him in recent weeks, preferring that they be given to the men he has chosen as his vice president (Mike Pence) and national security adviser (Mike Flynn) with Trump taking them only occasionally. The irony of this controversy arising at the eleventh hour of the Obama presidency can scarcely be overstated, and it defines the dilemma facing both the outgoing president and the incoming party in control. Obama appears to have been reluctant to retaliate against the Russian hacking before the election for fear of seeming to interfere with the election himself. The Republicans, meanwhile, have for years called for greater confrontation with the Russians, with Obama usually resisting. Obama did join with NATO in punishing the Russians with economic sanctions over the annexation of Crimea. Those sanctions may have been painful, coming as they did alongside falling prices for oil  —   the commodity that keeps the Russian economy afloat. On other occasions, despite Russian provocations through surrogates in Syria and elsewhere, Obama did not make overt moves to force Russia’s hand. That includes occasions when Russia was believed to be hacking critical computer systems in neighboring Ukraine, Estonia and Poland. But this week, following a chorus of confirmation from the U. S. intelligence community regarding the Russian role in computer hacking in the political campaign, Obama acted. He imposed a set of mostly diplomatic actions such as sanctioning some Russian officials, closing two diplomatic compounds and expelling 35 Russian diplomats. There may have been more damaging measures taken covertly, and some Russophobes in Washington held out hope for that. But the visible portion of the program scarcely amounted to major retribution. And Putin saw fit to diminish the Obama sanctions further by declining to respond. Although his government has steadfastly denied any interference in the U. S. election, Putin rejected his own foreign minister’s recommended package of    responses. (He even sent an invitation for U. S. diplomats to send their children to a holiday party in Moscow.) That allowed Putin to appear for the moment to be ”the bigger man,” even as he spurned Obama and kept up what has looked like a public bromance with Trump, who tweeted: ”Great move on delay (by V. Putin)   I always knew he was very smart!” At the moment it may seem that the overall Russia question amounts to the first crisis facing the Trump presidency. Whether forced by this campaign interference issue or not, Trump must grasp the nettle of a relationship Mitt Romney once called the greatest threat to U. S. security in the world. To be sure, Trump needs to dispel doubts about his ability to stand up to Putin, who has bullied and cajoled his way to center stage in recent world affairs. But Trump also seems determined to turn the page on past U. S. commitments, from free trade philosophy to funding of NATO and the United Nations. And if his Twitter account is any guide, Trump shows little concern about the conundrum others perceive to be facing him. Above all, Trump has shown himself determined to play by his own rules. A year ago, many were confident that would not work for him in the world of presidential politics. We are about to find out whether it works for him in the Oval Office.'"
            ],
            "application/vnd.google.colaboratory.intrinsic+json": {
              "type": "string"
            }
          },
          "metadata": {},
          "execution_count": 4
        }
      ]
    },
    {
      "cell_type": "code",
      "source": [
        "# Checking out the len of the article\n",
        "len(npr)"
      ],
      "metadata": {
        "colab": {
          "base_uri": "https://localhost:8080/"
        },
        "id": "_8g968wlUx3V",
        "outputId": "8ad1a449-4986-4178-bca1-4c5383e97846"
      },
      "execution_count": 5,
      "outputs": [
        {
          "output_type": "execute_result",
          "data": {
            "text/plain": [
              "11992"
            ]
          },
          "metadata": {},
          "execution_count": 5
        }
      ]
    },
    {
      "cell_type": "markdown",
      "source": [
        "# Data preprocessing"
      ],
      "metadata": {
        "id": "ZVKZzexsVU_d"
      }
    },
    {
      "cell_type": "code",
      "source": [
        "from sklearn.feature_extraction.text import CountVectorizer"
      ],
      "metadata": {
        "id": "1VAxQsTVVYj9"
      },
      "execution_count": 6,
      "outputs": []
    },
    {
      "cell_type": "code",
      "source": [
        "cv = CountVectorizer(max_df = 0.95, min_df = 2, stop_words='english' )\n",
        "# max_df = gets rid of frequent/common words. Range (0-1)\n",
        "# min_df = min word frequency. U can pass int too.\n",
        "# min_df=2 means if a word has shown up at least twice in the doc, discaard it."
      ],
      "metadata": {
        "id": "wpMLT0z8VieM"
      },
      "execution_count": 7,
      "outputs": []
    },
    {
      "cell_type": "code",
      "source": [
        "# fit transforming the data set, because this is an unsupervised learning\n",
        "dtm = cv.fit_transform(npr['Article'])\n",
        "#dtm = document transform matrix"
      ],
      "metadata": {
        "id": "p0tu7DmWXHwU"
      },
      "execution_count": 8,
      "outputs": []
    },
    {
      "cell_type": "code",
      "source": [
        "dtm\n",
        "\n",
        "#54777 terms\n",
        "# (doc by words)"
      ],
      "metadata": {
        "colab": {
          "base_uri": "https://localhost:8080/"
        },
        "id": "FnkgY5RjXmL8",
        "outputId": "bc34b985-05d6-4daf-9777-6d137fc5fcec"
      },
      "execution_count": 9,
      "outputs": [
        {
          "output_type": "execute_result",
          "data": {
            "text/plain": [
              "<Compressed Sparse Row sparse matrix of dtype 'int64'\n",
              "\twith 3033388 stored elements and shape (11992, 54777)>"
            ]
          },
          "metadata": {},
          "execution_count": 9
        }
      ]
    },
    {
      "cell_type": "markdown",
      "source": [
        "# Performing LDA"
      ],
      "metadata": {
        "id": "UwkJM2pvaymx"
      }
    },
    {
      "cell_type": "code",
      "source": [
        "# LDA is built-in in sklearn, import it\n",
        "from sklearn.decomposition import LatentDirichletAllocation"
      ],
      "metadata": {
        "id": "MXloayuxadzq"
      },
      "execution_count": 10,
      "outputs": []
    },
    {
      "cell_type": "code",
      "source": [
        "LDA = LatentDirichletAllocation(n_components=7, random_state = 42)\n",
        "# n_component -> how many topics we want"
      ],
      "metadata": {
        "id": "Wzevuj9ua0Op"
      },
      "execution_count": 11,
      "outputs": []
    },
    {
      "cell_type": "markdown",
      "source": [
        "(We are working with a large number of documents. LDA is an iterative process, so it will continue updating the weights for each word and topic repeatedly until they stabilize)"
      ],
      "metadata": {
        "id": "d79Cnjj2dxDw"
      }
    },
    {
      "cell_type": "code",
      "source": [
        "# fit LDA into dtm\n",
        "LDA.fit(dtm) # This should take a while"
      ],
      "metadata": {
        "colab": {
          "base_uri": "https://localhost:8080/",
          "height": 80
        },
        "id": "_KURWMqHcZSA",
        "outputId": "4d8e335b-5b2f-402a-a81f-b578e9a95838"
      },
      "execution_count": 12,
      "outputs": [
        {
          "output_type": "execute_result",
          "data": {
            "text/plain": [
              "LatentDirichletAllocation(n_components=7, random_state=42)"
            ],
            "text/html": [
              "<style>#sk-container-id-1 {\n",
              "  /* Definition of color scheme common for light and dark mode */\n",
              "  --sklearn-color-text: #000;\n",
              "  --sklearn-color-text-muted: #666;\n",
              "  --sklearn-color-line: gray;\n",
              "  /* Definition of color scheme for unfitted estimators */\n",
              "  --sklearn-color-unfitted-level-0: #fff5e6;\n",
              "  --sklearn-color-unfitted-level-1: #f6e4d2;\n",
              "  --sklearn-color-unfitted-level-2: #ffe0b3;\n",
              "  --sklearn-color-unfitted-level-3: chocolate;\n",
              "  /* Definition of color scheme for fitted estimators */\n",
              "  --sklearn-color-fitted-level-0: #f0f8ff;\n",
              "  --sklearn-color-fitted-level-1: #d4ebff;\n",
              "  --sklearn-color-fitted-level-2: #b3dbfd;\n",
              "  --sklearn-color-fitted-level-3: cornflowerblue;\n",
              "\n",
              "  /* Specific color for light theme */\n",
              "  --sklearn-color-text-on-default-background: var(--sg-text-color, var(--theme-code-foreground, var(--jp-content-font-color1, black)));\n",
              "  --sklearn-color-background: var(--sg-background-color, var(--theme-background, var(--jp-layout-color0, white)));\n",
              "  --sklearn-color-border-box: var(--sg-text-color, var(--theme-code-foreground, var(--jp-content-font-color1, black)));\n",
              "  --sklearn-color-icon: #696969;\n",
              "\n",
              "  @media (prefers-color-scheme: dark) {\n",
              "    /* Redefinition of color scheme for dark theme */\n",
              "    --sklearn-color-text-on-default-background: var(--sg-text-color, var(--theme-code-foreground, var(--jp-content-font-color1, white)));\n",
              "    --sklearn-color-background: var(--sg-background-color, var(--theme-background, var(--jp-layout-color0, #111)));\n",
              "    --sklearn-color-border-box: var(--sg-text-color, var(--theme-code-foreground, var(--jp-content-font-color1, white)));\n",
              "    --sklearn-color-icon: #878787;\n",
              "  }\n",
              "}\n",
              "\n",
              "#sk-container-id-1 {\n",
              "  color: var(--sklearn-color-text);\n",
              "}\n",
              "\n",
              "#sk-container-id-1 pre {\n",
              "  padding: 0;\n",
              "}\n",
              "\n",
              "#sk-container-id-1 input.sk-hidden--visually {\n",
              "  border: 0;\n",
              "  clip: rect(1px 1px 1px 1px);\n",
              "  clip: rect(1px, 1px, 1px, 1px);\n",
              "  height: 1px;\n",
              "  margin: -1px;\n",
              "  overflow: hidden;\n",
              "  padding: 0;\n",
              "  position: absolute;\n",
              "  width: 1px;\n",
              "}\n",
              "\n",
              "#sk-container-id-1 div.sk-dashed-wrapped {\n",
              "  border: 1px dashed var(--sklearn-color-line);\n",
              "  margin: 0 0.4em 0.5em 0.4em;\n",
              "  box-sizing: border-box;\n",
              "  padding-bottom: 0.4em;\n",
              "  background-color: var(--sklearn-color-background);\n",
              "}\n",
              "\n",
              "#sk-container-id-1 div.sk-container {\n",
              "  /* jupyter's `normalize.less` sets `[hidden] { display: none; }`\n",
              "     but bootstrap.min.css set `[hidden] { display: none !important; }`\n",
              "     so we also need the `!important` here to be able to override the\n",
              "     default hidden behavior on the sphinx rendered scikit-learn.org.\n",
              "     See: https://github.com/scikit-learn/scikit-learn/issues/21755 */\n",
              "  display: inline-block !important;\n",
              "  position: relative;\n",
              "}\n",
              "\n",
              "#sk-container-id-1 div.sk-text-repr-fallback {\n",
              "  display: none;\n",
              "}\n",
              "\n",
              "div.sk-parallel-item,\n",
              "div.sk-serial,\n",
              "div.sk-item {\n",
              "  /* draw centered vertical line to link estimators */\n",
              "  background-image: linear-gradient(var(--sklearn-color-text-on-default-background), var(--sklearn-color-text-on-default-background));\n",
              "  background-size: 2px 100%;\n",
              "  background-repeat: no-repeat;\n",
              "  background-position: center center;\n",
              "}\n",
              "\n",
              "/* Parallel-specific style estimator block */\n",
              "\n",
              "#sk-container-id-1 div.sk-parallel-item::after {\n",
              "  content: \"\";\n",
              "  width: 100%;\n",
              "  border-bottom: 2px solid var(--sklearn-color-text-on-default-background);\n",
              "  flex-grow: 1;\n",
              "}\n",
              "\n",
              "#sk-container-id-1 div.sk-parallel {\n",
              "  display: flex;\n",
              "  align-items: stretch;\n",
              "  justify-content: center;\n",
              "  background-color: var(--sklearn-color-background);\n",
              "  position: relative;\n",
              "}\n",
              "\n",
              "#sk-container-id-1 div.sk-parallel-item {\n",
              "  display: flex;\n",
              "  flex-direction: column;\n",
              "}\n",
              "\n",
              "#sk-container-id-1 div.sk-parallel-item:first-child::after {\n",
              "  align-self: flex-end;\n",
              "  width: 50%;\n",
              "}\n",
              "\n",
              "#sk-container-id-1 div.sk-parallel-item:last-child::after {\n",
              "  align-self: flex-start;\n",
              "  width: 50%;\n",
              "}\n",
              "\n",
              "#sk-container-id-1 div.sk-parallel-item:only-child::after {\n",
              "  width: 0;\n",
              "}\n",
              "\n",
              "/* Serial-specific style estimator block */\n",
              "\n",
              "#sk-container-id-1 div.sk-serial {\n",
              "  display: flex;\n",
              "  flex-direction: column;\n",
              "  align-items: center;\n",
              "  background-color: var(--sklearn-color-background);\n",
              "  padding-right: 1em;\n",
              "  padding-left: 1em;\n",
              "}\n",
              "\n",
              "\n",
              "/* Toggleable style: style used for estimator/Pipeline/ColumnTransformer box that is\n",
              "clickable and can be expanded/collapsed.\n",
              "- Pipeline and ColumnTransformer use this feature and define the default style\n",
              "- Estimators will overwrite some part of the style using the `sk-estimator` class\n",
              "*/\n",
              "\n",
              "/* Pipeline and ColumnTransformer style (default) */\n",
              "\n",
              "#sk-container-id-1 div.sk-toggleable {\n",
              "  /* Default theme specific background. It is overwritten whether we have a\n",
              "  specific estimator or a Pipeline/ColumnTransformer */\n",
              "  background-color: var(--sklearn-color-background);\n",
              "}\n",
              "\n",
              "/* Toggleable label */\n",
              "#sk-container-id-1 label.sk-toggleable__label {\n",
              "  cursor: pointer;\n",
              "  display: flex;\n",
              "  width: 100%;\n",
              "  margin-bottom: 0;\n",
              "  padding: 0.5em;\n",
              "  box-sizing: border-box;\n",
              "  text-align: center;\n",
              "  align-items: start;\n",
              "  justify-content: space-between;\n",
              "  gap: 0.5em;\n",
              "}\n",
              "\n",
              "#sk-container-id-1 label.sk-toggleable__label .caption {\n",
              "  font-size: 0.6rem;\n",
              "  font-weight: lighter;\n",
              "  color: var(--sklearn-color-text-muted);\n",
              "}\n",
              "\n",
              "#sk-container-id-1 label.sk-toggleable__label-arrow:before {\n",
              "  /* Arrow on the left of the label */\n",
              "  content: \"▸\";\n",
              "  float: left;\n",
              "  margin-right: 0.25em;\n",
              "  color: var(--sklearn-color-icon);\n",
              "}\n",
              "\n",
              "#sk-container-id-1 label.sk-toggleable__label-arrow:hover:before {\n",
              "  color: var(--sklearn-color-text);\n",
              "}\n",
              "\n",
              "/* Toggleable content - dropdown */\n",
              "\n",
              "#sk-container-id-1 div.sk-toggleable__content {\n",
              "  max-height: 0;\n",
              "  max-width: 0;\n",
              "  overflow: hidden;\n",
              "  text-align: left;\n",
              "  /* unfitted */\n",
              "  background-color: var(--sklearn-color-unfitted-level-0);\n",
              "}\n",
              "\n",
              "#sk-container-id-1 div.sk-toggleable__content.fitted {\n",
              "  /* fitted */\n",
              "  background-color: var(--sklearn-color-fitted-level-0);\n",
              "}\n",
              "\n",
              "#sk-container-id-1 div.sk-toggleable__content pre {\n",
              "  margin: 0.2em;\n",
              "  border-radius: 0.25em;\n",
              "  color: var(--sklearn-color-text);\n",
              "  /* unfitted */\n",
              "  background-color: var(--sklearn-color-unfitted-level-0);\n",
              "}\n",
              "\n",
              "#sk-container-id-1 div.sk-toggleable__content.fitted pre {\n",
              "  /* unfitted */\n",
              "  background-color: var(--sklearn-color-fitted-level-0);\n",
              "}\n",
              "\n",
              "#sk-container-id-1 input.sk-toggleable__control:checked~div.sk-toggleable__content {\n",
              "  /* Expand drop-down */\n",
              "  max-height: 200px;\n",
              "  max-width: 100%;\n",
              "  overflow: auto;\n",
              "}\n",
              "\n",
              "#sk-container-id-1 input.sk-toggleable__control:checked~label.sk-toggleable__label-arrow:before {\n",
              "  content: \"▾\";\n",
              "}\n",
              "\n",
              "/* Pipeline/ColumnTransformer-specific style */\n",
              "\n",
              "#sk-container-id-1 div.sk-label input.sk-toggleable__control:checked~label.sk-toggleable__label {\n",
              "  color: var(--sklearn-color-text);\n",
              "  background-color: var(--sklearn-color-unfitted-level-2);\n",
              "}\n",
              "\n",
              "#sk-container-id-1 div.sk-label.fitted input.sk-toggleable__control:checked~label.sk-toggleable__label {\n",
              "  background-color: var(--sklearn-color-fitted-level-2);\n",
              "}\n",
              "\n",
              "/* Estimator-specific style */\n",
              "\n",
              "/* Colorize estimator box */\n",
              "#sk-container-id-1 div.sk-estimator input.sk-toggleable__control:checked~label.sk-toggleable__label {\n",
              "  /* unfitted */\n",
              "  background-color: var(--sklearn-color-unfitted-level-2);\n",
              "}\n",
              "\n",
              "#sk-container-id-1 div.sk-estimator.fitted input.sk-toggleable__control:checked~label.sk-toggleable__label {\n",
              "  /* fitted */\n",
              "  background-color: var(--sklearn-color-fitted-level-2);\n",
              "}\n",
              "\n",
              "#sk-container-id-1 div.sk-label label.sk-toggleable__label,\n",
              "#sk-container-id-1 div.sk-label label {\n",
              "  /* The background is the default theme color */\n",
              "  color: var(--sklearn-color-text-on-default-background);\n",
              "}\n",
              "\n",
              "/* On hover, darken the color of the background */\n",
              "#sk-container-id-1 div.sk-label:hover label.sk-toggleable__label {\n",
              "  color: var(--sklearn-color-text);\n",
              "  background-color: var(--sklearn-color-unfitted-level-2);\n",
              "}\n",
              "\n",
              "/* Label box, darken color on hover, fitted */\n",
              "#sk-container-id-1 div.sk-label.fitted:hover label.sk-toggleable__label.fitted {\n",
              "  color: var(--sklearn-color-text);\n",
              "  background-color: var(--sklearn-color-fitted-level-2);\n",
              "}\n",
              "\n",
              "/* Estimator label */\n",
              "\n",
              "#sk-container-id-1 div.sk-label label {\n",
              "  font-family: monospace;\n",
              "  font-weight: bold;\n",
              "  display: inline-block;\n",
              "  line-height: 1.2em;\n",
              "}\n",
              "\n",
              "#sk-container-id-1 div.sk-label-container {\n",
              "  text-align: center;\n",
              "}\n",
              "\n",
              "/* Estimator-specific */\n",
              "#sk-container-id-1 div.sk-estimator {\n",
              "  font-family: monospace;\n",
              "  border: 1px dotted var(--sklearn-color-border-box);\n",
              "  border-radius: 0.25em;\n",
              "  box-sizing: border-box;\n",
              "  margin-bottom: 0.5em;\n",
              "  /* unfitted */\n",
              "  background-color: var(--sklearn-color-unfitted-level-0);\n",
              "}\n",
              "\n",
              "#sk-container-id-1 div.sk-estimator.fitted {\n",
              "  /* fitted */\n",
              "  background-color: var(--sklearn-color-fitted-level-0);\n",
              "}\n",
              "\n",
              "/* on hover */\n",
              "#sk-container-id-1 div.sk-estimator:hover {\n",
              "  /* unfitted */\n",
              "  background-color: var(--sklearn-color-unfitted-level-2);\n",
              "}\n",
              "\n",
              "#sk-container-id-1 div.sk-estimator.fitted:hover {\n",
              "  /* fitted */\n",
              "  background-color: var(--sklearn-color-fitted-level-2);\n",
              "}\n",
              "\n",
              "/* Specification for estimator info (e.g. \"i\" and \"?\") */\n",
              "\n",
              "/* Common style for \"i\" and \"?\" */\n",
              "\n",
              ".sk-estimator-doc-link,\n",
              "a:link.sk-estimator-doc-link,\n",
              "a:visited.sk-estimator-doc-link {\n",
              "  float: right;\n",
              "  font-size: smaller;\n",
              "  line-height: 1em;\n",
              "  font-family: monospace;\n",
              "  background-color: var(--sklearn-color-background);\n",
              "  border-radius: 1em;\n",
              "  height: 1em;\n",
              "  width: 1em;\n",
              "  text-decoration: none !important;\n",
              "  margin-left: 0.5em;\n",
              "  text-align: center;\n",
              "  /* unfitted */\n",
              "  border: var(--sklearn-color-unfitted-level-1) 1pt solid;\n",
              "  color: var(--sklearn-color-unfitted-level-1);\n",
              "}\n",
              "\n",
              ".sk-estimator-doc-link.fitted,\n",
              "a:link.sk-estimator-doc-link.fitted,\n",
              "a:visited.sk-estimator-doc-link.fitted {\n",
              "  /* fitted */\n",
              "  border: var(--sklearn-color-fitted-level-1) 1pt solid;\n",
              "  color: var(--sklearn-color-fitted-level-1);\n",
              "}\n",
              "\n",
              "/* On hover */\n",
              "div.sk-estimator:hover .sk-estimator-doc-link:hover,\n",
              ".sk-estimator-doc-link:hover,\n",
              "div.sk-label-container:hover .sk-estimator-doc-link:hover,\n",
              ".sk-estimator-doc-link:hover {\n",
              "  /* unfitted */\n",
              "  background-color: var(--sklearn-color-unfitted-level-3);\n",
              "  color: var(--sklearn-color-background);\n",
              "  text-decoration: none;\n",
              "}\n",
              "\n",
              "div.sk-estimator.fitted:hover .sk-estimator-doc-link.fitted:hover,\n",
              ".sk-estimator-doc-link.fitted:hover,\n",
              "div.sk-label-container:hover .sk-estimator-doc-link.fitted:hover,\n",
              ".sk-estimator-doc-link.fitted:hover {\n",
              "  /* fitted */\n",
              "  background-color: var(--sklearn-color-fitted-level-3);\n",
              "  color: var(--sklearn-color-background);\n",
              "  text-decoration: none;\n",
              "}\n",
              "\n",
              "/* Span, style for the box shown on hovering the info icon */\n",
              ".sk-estimator-doc-link span {\n",
              "  display: none;\n",
              "  z-index: 9999;\n",
              "  position: relative;\n",
              "  font-weight: normal;\n",
              "  right: .2ex;\n",
              "  padding: .5ex;\n",
              "  margin: .5ex;\n",
              "  width: min-content;\n",
              "  min-width: 20ex;\n",
              "  max-width: 50ex;\n",
              "  color: var(--sklearn-color-text);\n",
              "  box-shadow: 2pt 2pt 4pt #999;\n",
              "  /* unfitted */\n",
              "  background: var(--sklearn-color-unfitted-level-0);\n",
              "  border: .5pt solid var(--sklearn-color-unfitted-level-3);\n",
              "}\n",
              "\n",
              ".sk-estimator-doc-link.fitted span {\n",
              "  /* fitted */\n",
              "  background: var(--sklearn-color-fitted-level-0);\n",
              "  border: var(--sklearn-color-fitted-level-3);\n",
              "}\n",
              "\n",
              ".sk-estimator-doc-link:hover span {\n",
              "  display: block;\n",
              "}\n",
              "\n",
              "/* \"?\"-specific style due to the `<a>` HTML tag */\n",
              "\n",
              "#sk-container-id-1 a.estimator_doc_link {\n",
              "  float: right;\n",
              "  font-size: 1rem;\n",
              "  line-height: 1em;\n",
              "  font-family: monospace;\n",
              "  background-color: var(--sklearn-color-background);\n",
              "  border-radius: 1rem;\n",
              "  height: 1rem;\n",
              "  width: 1rem;\n",
              "  text-decoration: none;\n",
              "  /* unfitted */\n",
              "  color: var(--sklearn-color-unfitted-level-1);\n",
              "  border: var(--sklearn-color-unfitted-level-1) 1pt solid;\n",
              "}\n",
              "\n",
              "#sk-container-id-1 a.estimator_doc_link.fitted {\n",
              "  /* fitted */\n",
              "  border: var(--sklearn-color-fitted-level-1) 1pt solid;\n",
              "  color: var(--sklearn-color-fitted-level-1);\n",
              "}\n",
              "\n",
              "/* On hover */\n",
              "#sk-container-id-1 a.estimator_doc_link:hover {\n",
              "  /* unfitted */\n",
              "  background-color: var(--sklearn-color-unfitted-level-3);\n",
              "  color: var(--sklearn-color-background);\n",
              "  text-decoration: none;\n",
              "}\n",
              "\n",
              "#sk-container-id-1 a.estimator_doc_link.fitted:hover {\n",
              "  /* fitted */\n",
              "  background-color: var(--sklearn-color-fitted-level-3);\n",
              "}\n",
              "</style><div id=\"sk-container-id-1\" class=\"sk-top-container\"><div class=\"sk-text-repr-fallback\"><pre>LatentDirichletAllocation(n_components=7, random_state=42)</pre><b>In a Jupyter environment, please rerun this cell to show the HTML representation or trust the notebook. <br />On GitHub, the HTML representation is unable to render, please try loading this page with nbviewer.org.</b></div><div class=\"sk-container\" hidden><div class=\"sk-item\"><div class=\"sk-estimator fitted sk-toggleable\"><input class=\"sk-toggleable__control sk-hidden--visually\" id=\"sk-estimator-id-1\" type=\"checkbox\" checked><label for=\"sk-estimator-id-1\" class=\"sk-toggleable__label fitted sk-toggleable__label-arrow\"><div><div>LatentDirichletAllocation</div></div><div><a class=\"sk-estimator-doc-link fitted\" rel=\"noreferrer\" target=\"_blank\" href=\"https://scikit-learn.org/1.6/modules/generated/sklearn.decomposition.LatentDirichletAllocation.html\">?<span>Documentation for LatentDirichletAllocation</span></a><span class=\"sk-estimator-doc-link fitted\">i<span>Fitted</span></span></div></label><div class=\"sk-toggleable__content fitted\"><pre>LatentDirichletAllocation(n_components=7, random_state=42)</pre></div> </div></div></div></div>"
            ]
          },
          "metadata": {},
          "execution_count": 12
        }
      ]
    },
    {
      "cell_type": "code",
      "source": [],
      "metadata": {
        "id": "lzTHTgyFd4fH"
      },
      "execution_count": null,
      "outputs": []
    },
    {
      "cell_type": "markdown",
      "source": [
        "## Now we have 3 steps left:\n",
        "1. Grab the vocabulary of words\n",
        "2. Grab the topics\n",
        "3. Grab the highest probability words per topic"
      ],
      "metadata": {
        "id": "XgqFEWNFd80X"
      }
    },
    {
      "cell_type": "markdown",
      "source": [
        "Step 1. Grab the topic"
      ],
      "metadata": {
        "id": "LxKJNelhmx6o"
      }
    },
    {
      "cell_type": "markdown",
      "source": [
        "get_feature_names() holds an instance of every single word. If you print the len, you will get 54777"
      ],
      "metadata": {
        "id": "0Y-g4fftnKLQ"
      }
    },
    {
      "cell_type": "code",
      "source": [
        "len(cv.get_feature_names_out())"
      ],
      "metadata": {
        "colab": {
          "base_uri": "https://localhost:8080/"
        },
        "id": "6UPlAaRlndGf",
        "outputId": "7a723658-5ce8-4933-c122-78cd9e08301c"
      },
      "execution_count": 15,
      "outputs": [
        {
          "output_type": "execute_result",
          "data": {
            "text/plain": [
              "54777"
            ]
          },
          "metadata": {},
          "execution_count": 15
        }
      ]
    },
    {
      "cell_type": "code",
      "source": [
        "type(cv.get_feature_names_out()) # A list of all the words in npr document"
      ],
      "metadata": {
        "colab": {
          "base_uri": "https://localhost:8080/"
        },
        "id": "MxY37iqcn93H",
        "outputId": "eeb2334f-b958-43d2-f689-d325f4187273"
      },
      "execution_count": 17,
      "outputs": [
        {
          "output_type": "execute_result",
          "data": {
            "text/plain": [
              "numpy.ndarray"
            ]
          },
          "metadata": {},
          "execution_count": 17
        }
      ]
    },
    {
      "cell_type": "code",
      "source": [
        "cv.get_feature_names_out()[43000] # You can grab a word by index"
      ],
      "metadata": {
        "colab": {
          "base_uri": "https://localhost:8080/",
          "height": 35
        },
        "id": "k8M4lFyFm00P",
        "outputId": "70e65cf6-2d64-4831-cc6e-872099ee1098"
      },
      "execution_count": 20,
      "outputs": [
        {
          "output_type": "execute_result",
          "data": {
            "text/plain": [
              "'scabbed'"
            ],
            "application/vnd.google.colaboratory.intrinsic+json": {
              "type": "string"
            }
          },
          "metadata": {},
          "execution_count": 20
        }
      ]
    },
    {
      "cell_type": "markdown",
      "source": [
        "Step 2. Grab the topics"
      ],
      "metadata": {
        "id": "PmPsegQuo0cG"
      }
    },
    {
      "cell_type": "code",
      "source": [
        "len(LDA.components_) # It will return the number of topics"
      ],
      "metadata": {
        "colab": {
          "base_uri": "https://localhost:8080/"
        },
        "id": "oV96VtAlo0PH",
        "outputId": "1545a016-468b-46b8-cac3-8da4420ba994"
      },
      "execution_count": 21,
      "outputs": [
        {
          "output_type": "execute_result",
          "data": {
            "text/plain": [
              "7"
            ]
          },
          "metadata": {},
          "execution_count": 21
        }
      ]
    },
    {
      "cell_type": "code",
      "source": [
        "type(LDA.components_) # This is actually a NumPy array"
      ],
      "metadata": {
        "colab": {
          "base_uri": "https://localhost:8080/"
        },
        "id": "jF0BGPHkpCYO",
        "outputId": "0473c245-5688-4687-ef37-2e6418fb4f4d"
      },
      "execution_count": 22,
      "outputs": [
        {
          "output_type": "execute_result",
          "data": {
            "text/plain": [
              "numpy.ndarray"
            ]
          },
          "metadata": {},
          "execution_count": 22
        }
      ]
    },
    {
      "cell_type": "code",
      "source": [
        "LDA.components_.shape # It's an array of 7 topics by 54777 words"
      ],
      "metadata": {
        "colab": {
          "base_uri": "https://localhost:8080/"
        },
        "id": "Z68jikL8pdMG",
        "outputId": "fb9cbc1f-98b9-4251-f28b-1520d9041cca"
      },
      "execution_count": 23,
      "outputs": [
        {
          "output_type": "execute_result",
          "data": {
            "text/plain": [
              "(7, 54777)"
            ]
          },
          "metadata": {},
          "execution_count": 23
        }
      ]
    },
    {
      "cell_type": "code",
      "source": [
        "LDA.components_ # checking the actual components"
      ],
      "metadata": {
        "colab": {
          "base_uri": "https://localhost:8080/"
        },
        "id": "o9FhbPlGp4eW",
        "outputId": "7a0fe12a-cc8a-465e-8a34-a713c9a7fa14"
      },
      "execution_count": 24,
      "outputs": [
        {
          "output_type": "execute_result",
          "data": {
            "text/plain": [
              "array([[8.64332806e+00, 2.38014333e+03, 1.42900522e-01, ...,\n",
              "        1.43006821e-01, 1.42902042e-01, 1.42861626e-01],\n",
              "       [2.76191749e+01, 5.36394437e+02, 1.42857148e-01, ...,\n",
              "        1.42861973e-01, 1.42857147e-01, 1.42906875e-01],\n",
              "       [7.22783888e+00, 8.24033986e+02, 1.42857148e-01, ...,\n",
              "        6.14236247e+00, 2.14061364e+00, 1.42923753e-01],\n",
              "       ...,\n",
              "       [3.11488651e+00, 3.50409655e+02, 1.42857147e-01, ...,\n",
              "        1.42859912e-01, 1.42857146e-01, 1.42866614e-01],\n",
              "       [4.61486388e+01, 5.14408600e+01, 3.14281373e+00, ...,\n",
              "        1.43107628e-01, 1.43902481e-01, 2.14271779e+00],\n",
              "       [4.93991422e-01, 4.18841042e+02, 1.42857151e-01, ...,\n",
              "        1.42857146e-01, 1.43760101e-01, 1.42866201e-01]])"
            ]
          },
          "metadata": {},
          "execution_count": 24
        }
      ]
    },
    {
      "cell_type": "markdown",
      "source": [
        "Now, we will use this information along with our ability to access the vocabulary (cv.get_feature_names_out()) to get the highest probability for per topic."
      ],
      "metadata": {
        "id": "7cXR1YHjqFt2"
      }
    },
    {
      "cell_type": "code",
      "source": [
        "single_topic = LDA.components_[0] # The very first topic"
      ],
      "metadata": {
        "id": "ACFxcf6FqigV"
      },
      "execution_count": 26,
      "outputs": []
    },
    {
      "cell_type": "code",
      "source": [
        "single_topic.argsort() #argsort() return the index that would sort this array"
      ],
      "metadata": {
        "colab": {
          "base_uri": "https://localhost:8080/"
        },
        "id": "jiedkoDaqwiV",
        "outputId": "6cb24ecb-6591-476e-c09a-03f64bf11fb2"
      },
      "execution_count": 27,
      "outputs": [
        {
          "output_type": "execute_result",
          "data": {
            "text/plain": [
              "array([ 2475, 18302, 35285, ..., 22673, 42561, 42993])"
            ]
          },
          "metadata": {},
          "execution_count": 27
        }
      ]
    },
    {
      "cell_type": "markdown",
      "source": [
        "Let me make it clear with an example"
      ],
      "metadata": {
        "id": "enRm5B0ZrcH9"
      }
    },
    {
      "cell_type": "code",
      "source": [
        "import numpy as np"
      ],
      "metadata": {
        "id": "q6cxnrh7rOdN"
      },
      "execution_count": 29,
      "outputs": []
    },
    {
      "cell_type": "code",
      "source": [
        "arr = np.array([10,200,2])"
      ],
      "metadata": {
        "id": "m5_o4c5RrEBF"
      },
      "execution_count": 30,
      "outputs": []
    },
    {
      "cell_type": "code",
      "source": [
        "arr.argsort() # this is the index position that will sort this array (lowest -> highest)"
      ],
      "metadata": {
        "colab": {
          "base_uri": "https://localhost:8080/"
        },
        "id": "00UWnQJ-rSXF",
        "outputId": "7f814f59-9bae-4b79-cb73-163877209b1c"
      },
      "execution_count": 31,
      "outputs": [
        {
          "output_type": "execute_result",
          "data": {
            "text/plain": [
              "array([2, 0, 1])"
            ]
          },
          "metadata": {},
          "execution_count": 31
        }
      ]
    },
    {
      "cell_type": "markdown",
      "source": [
        "Back to actual task"
      ],
      "metadata": {
        "id": "8v7lGCvjshm8"
      }
    },
    {
      "cell_type": "code",
      "source": [
        "# ARGSORT --> INDEX POSITIONS SORTED FROM LEAST--> GREATEST\n",
        "# WE'RE LOOKING FOR TOP 10 VALUES (10 GREATEST VALUES)\n",
        "# LAST 10 VALUES FROM THE LIST ARGSORT\n",
        "\n",
        "single_topic.argsort()[-10:] #GRAB THE LAST 10 VALUES OF .ARGSORT() RETURNS"
      ],
      "metadata": {
        "colab": {
          "base_uri": "https://localhost:8080/"
        },
        "id": "wxTkOLsUsg2V",
        "outputId": "10508934-15ee-429e-b494-647d021e8f13"
      },
      "execution_count": 32,
      "outputs": [
        {
          "output_type": "execute_result",
          "data": {
            "text/plain": [
              "array([33390, 36310, 21228, 10425, 31464,  8149, 36283, 22673, 42561,\n",
              "       42993])"
            ]
          },
          "metadata": {},
          "execution_count": 32
        }
      ]
    },
    {
      "cell_type": "code",
      "source": [
        "top_ten_words = single_topic.argsort()[-10:]"
      ],
      "metadata": {
        "id": "_B-k-nSutRQc"
      },
      "execution_count": 33,
      "outputs": []
    },
    {
      "cell_type": "code",
      "source": [
        "for i in top_ten_words:\n",
        "  print(cv.get_feature_names_out()[i])"
      ],
      "metadata": {
        "colab": {
          "base_uri": "https://localhost:8080/"
        },
        "id": "SRQNgMTvtYrE",
        "outputId": "68898ea4-1b75-488d-f9cd-b2dd511cc53c"
      },
      "execution_count": 34,
      "outputs": [
        {
          "output_type": "stream",
          "name": "stdout",
          "text": [
            "new\n",
            "percent\n",
            "government\n",
            "company\n",
            "million\n",
            "care\n",
            "people\n",
            "health\n",
            "said\n",
            "says\n"
          ]
        }
      ]
    },
    {
      "cell_type": "markdown",
      "source": [
        "Upon seeing the words, it feels like the article has something to do with govt, new rules, military and healthcare service. So maybe it's an article of a country. Let's clarify by identifying more words."
      ],
      "metadata": {
        "id": "GJmZUdNvt6A0"
      }
    },
    {
      "cell_type": "code",
      "source": [
        "top_twenty_words = single_topic.argsort()[-20:]\n",
        "\n",
        "for i in top_twenty_words:\n",
        "  print(cv.get_feature_names_out()[i])"
      ],
      "metadata": {
        "colab": {
          "base_uri": "https://localhost:8080/"
        },
        "id": "UrM5KxWbt5fc",
        "outputId": "ebee6a2a-8b91-4a27-885a-4140bd392dfa"
      },
      "execution_count": 35,
      "outputs": [
        {
          "output_type": "stream",
          "name": "stdout",
          "text": [
            "president\n",
            "state\n",
            "tax\n",
            "insurance\n",
            "trump\n",
            "companies\n",
            "money\n",
            "year\n",
            "federal\n",
            "000\n",
            "new\n",
            "percent\n",
            "government\n",
            "company\n",
            "million\n",
            "care\n",
            "people\n",
            "health\n",
            "said\n",
            "says\n"
          ]
        }
      ]
    },
    {
      "cell_type": "markdown",
      "source": [
        "I can see words like president, state, tax, insurance, federal, government, and percent. Now it's becoming clearer that the article might be about health insurance and politics."
      ],
      "metadata": {
        "id": "v-3BZMvrul-b"
      }
    },
    {
      "cell_type": "markdown",
      "source": [
        "LDA is now revealing an underlying topic. It's indicating that these specific words are likely to appear in this particular single_topic. Let's set up a simple loop to print out the top 15 words for each of the seven topics.\n",
        "\n"
      ],
      "metadata": {
        "id": "rJgYhY_uvCUT"
      }
    },
    {
      "cell_type": "markdown",
      "source": [
        "Code explanation: for each topic LDA.components_ (which was an array, 7 topics by 54777 words), we are grabbing the top 15 words, then we are doing a list comprehension, to basically get the index positions of our get_feature_names_out()"
      ],
      "metadata": {
        "id": "Ah-C-NsTwVFr"
      }
    },
    {
      "cell_type": "code",
      "source": [
        "for index,topic in enumerate(LDA.components_):\n",
        "    print(f'THE TOP 15 WORDS FOR TOPIC #{index}')\n",
        "    print([cv.get_feature_names_out()[i] for i in topic.argsort()[-15:]])\n",
        "    print('\\n')"
      ],
      "metadata": {
        "colab": {
          "base_uri": "https://localhost:8080/"
        },
        "id": "h7Hu2_cbvPdb",
        "outputId": "42d0c98d-097d-4a63-a31f-6b20e32ae7f9"
      },
      "execution_count": 38,
      "outputs": [
        {
          "output_type": "stream",
          "name": "stdout",
          "text": [
            "THE TOP 15 WORDS FOR TOPIC #0\n",
            "['companies', 'money', 'year', 'federal', '000', 'new', 'percent', 'government', 'company', 'million', 'care', 'people', 'health', 'said', 'says']\n",
            "\n",
            "\n",
            "THE TOP 15 WORDS FOR TOPIC #1\n",
            "['military', 'house', 'security', 'russia', 'government', 'npr', 'reports', 'says', 'news', 'people', 'told', 'police', 'president', 'trump', 'said']\n",
            "\n",
            "\n",
            "THE TOP 15 WORDS FOR TOPIC #2\n",
            "['way', 'world', 'family', 'home', 'day', 'time', 'water', 'city', 'new', 'years', 'food', 'just', 'people', 'like', 'says']\n",
            "\n",
            "\n",
            "THE TOP 15 WORDS FOR TOPIC #3\n",
            "['time', 'new', 'don', 'years', 'medical', 'disease', 'patients', 'just', 'children', 'study', 'like', 'women', 'health', 'people', 'says']\n",
            "\n",
            "\n",
            "THE TOP 15 WORDS FOR TOPIC #4\n",
            "['voters', 'vote', 'election', 'party', 'new', 'obama', 'court', 'republican', 'campaign', 'people', 'state', 'president', 'clinton', 'said', 'trump']\n",
            "\n",
            "\n",
            "THE TOP 15 WORDS FOR TOPIC #5\n",
            "['years', 'going', 've', 'life', 'don', 'new', 'way', 'music', 'really', 'time', 'know', 'think', 'people', 'just', 'like']\n",
            "\n",
            "\n",
            "THE TOP 15 WORDS FOR TOPIC #6\n",
            "['student', 'years', 'data', 'science', 'university', 'people', 'time', 'schools', 'just', 'education', 'new', 'like', 'students', 'school', 'says']\n",
            "\n",
            "\n"
          ]
        }
      ]
    },
    {
      "cell_type": "markdown",
      "source": [
        "Notice we only printed seven topics, zero through six. You decide how many topics to have beforehand. If topics aren't clear or seem too similar, choose fewer topics. If you want more clarity, ask for more topics from the start."
      ],
      "metadata": {
        "id": "bCaRCrv6w5ui"
      }
    },
    {
      "cell_type": "markdown",
      "source": [
        "Step 3. Grab the highest probability words per topic"
      ],
      "metadata": {
        "id": "b_1IBdtSzOjB"
      }
    },
    {
      "cell_type": "code",
      "source": [
        "dtm #we have a dtm"
      ],
      "metadata": {
        "colab": {
          "base_uri": "https://localhost:8080/"
        },
        "id": "7Wb8zdc_w6ea",
        "outputId": "593ea6f2-45a7-4c02-9599-d4e18a5091f8"
      },
      "execution_count": 39,
      "outputs": [
        {
          "output_type": "execute_result",
          "data": {
            "text/plain": [
              "<Compressed Sparse Row sparse matrix of dtype 'int64'\n",
              "\twith 3033388 stored elements and shape (11992, 54777)>"
            ]
          },
          "metadata": {},
          "execution_count": 39
        }
      ]
    },
    {
      "cell_type": "code",
      "source": [
        "npr #and our npr"
      ],
      "metadata": {
        "colab": {
          "base_uri": "https://localhost:8080/",
          "height": 424
        },
        "id": "5Q9kMQV7xB-y",
        "outputId": "15daf2a5-e8fa-4461-c33f-595f6b114645"
      },
      "execution_count": 40,
      "outputs": [
        {
          "output_type": "execute_result",
          "data": {
            "text/plain": [
              "                                                 Article\n",
              "0      In the Washington of 2016, even when the polic...\n",
              "1        Donald Trump has used Twitter  —   his prefe...\n",
              "2        Donald Trump is unabashedly praising Russian...\n",
              "3      Updated at 2:50 p. m. ET, Russian President Vl...\n",
              "4      From photography, illustration and video, to d...\n",
              "...                                                  ...\n",
              "11987  The number of law enforcement officers shot an...\n",
              "11988    Trump is busy these days with victory tours,...\n",
              "11989  It’s always interesting for the Goats and Soda...\n",
              "11990  The election of Donald Trump was a surprise to...\n",
              "11991  Voters in the English city of Sunderland did s...\n",
              "\n",
              "[11992 rows x 1 columns]"
            ],
            "text/html": [
              "\n",
              "  <div id=\"df-75abaa77-6939-43c1-bb1d-91d955e0cd2f\" class=\"colab-df-container\">\n",
              "    <div>\n",
              "<style scoped>\n",
              "    .dataframe tbody tr th:only-of-type {\n",
              "        vertical-align: middle;\n",
              "    }\n",
              "\n",
              "    .dataframe tbody tr th {\n",
              "        vertical-align: top;\n",
              "    }\n",
              "\n",
              "    .dataframe thead th {\n",
              "        text-align: right;\n",
              "    }\n",
              "</style>\n",
              "<table border=\"1\" class=\"dataframe\">\n",
              "  <thead>\n",
              "    <tr style=\"text-align: right;\">\n",
              "      <th></th>\n",
              "      <th>Article</th>\n",
              "    </tr>\n",
              "  </thead>\n",
              "  <tbody>\n",
              "    <tr>\n",
              "      <th>0</th>\n",
              "      <td>In the Washington of 2016, even when the polic...</td>\n",
              "    </tr>\n",
              "    <tr>\n",
              "      <th>1</th>\n",
              "      <td>Donald Trump has used Twitter  —   his prefe...</td>\n",
              "    </tr>\n",
              "    <tr>\n",
              "      <th>2</th>\n",
              "      <td>Donald Trump is unabashedly praising Russian...</td>\n",
              "    </tr>\n",
              "    <tr>\n",
              "      <th>3</th>\n",
              "      <td>Updated at 2:50 p. m. ET, Russian President Vl...</td>\n",
              "    </tr>\n",
              "    <tr>\n",
              "      <th>4</th>\n",
              "      <td>From photography, illustration and video, to d...</td>\n",
              "    </tr>\n",
              "    <tr>\n",
              "      <th>...</th>\n",
              "      <td>...</td>\n",
              "    </tr>\n",
              "    <tr>\n",
              "      <th>11987</th>\n",
              "      <td>The number of law enforcement officers shot an...</td>\n",
              "    </tr>\n",
              "    <tr>\n",
              "      <th>11988</th>\n",
              "      <td>Trump is busy these days with victory tours,...</td>\n",
              "    </tr>\n",
              "    <tr>\n",
              "      <th>11989</th>\n",
              "      <td>It’s always interesting for the Goats and Soda...</td>\n",
              "    </tr>\n",
              "    <tr>\n",
              "      <th>11990</th>\n",
              "      <td>The election of Donald Trump was a surprise to...</td>\n",
              "    </tr>\n",
              "    <tr>\n",
              "      <th>11991</th>\n",
              "      <td>Voters in the English city of Sunderland did s...</td>\n",
              "    </tr>\n",
              "  </tbody>\n",
              "</table>\n",
              "<p>11992 rows × 1 columns</p>\n",
              "</div>\n",
              "    <div class=\"colab-df-buttons\">\n",
              "\n",
              "  <div class=\"colab-df-container\">\n",
              "    <button class=\"colab-df-convert\" onclick=\"convertToInteractive('df-75abaa77-6939-43c1-bb1d-91d955e0cd2f')\"\n",
              "            title=\"Convert this dataframe to an interactive table.\"\n",
              "            style=\"display:none;\">\n",
              "\n",
              "  <svg xmlns=\"http://www.w3.org/2000/svg\" height=\"24px\" viewBox=\"0 -960 960 960\">\n",
              "    <path d=\"M120-120v-720h720v720H120Zm60-500h600v-160H180v160Zm220 220h160v-160H400v160Zm0 220h160v-160H400v160ZM180-400h160v-160H180v160Zm440 0h160v-160H620v160ZM180-180h160v-160H180v160Zm440 0h160v-160H620v160Z\"/>\n",
              "  </svg>\n",
              "    </button>\n",
              "\n",
              "  <style>\n",
              "    .colab-df-container {\n",
              "      display:flex;\n",
              "      gap: 12px;\n",
              "    }\n",
              "\n",
              "    .colab-df-convert {\n",
              "      background-color: #E8F0FE;\n",
              "      border: none;\n",
              "      border-radius: 50%;\n",
              "      cursor: pointer;\n",
              "      display: none;\n",
              "      fill: #1967D2;\n",
              "      height: 32px;\n",
              "      padding: 0 0 0 0;\n",
              "      width: 32px;\n",
              "    }\n",
              "\n",
              "    .colab-df-convert:hover {\n",
              "      background-color: #E2EBFA;\n",
              "      box-shadow: 0px 1px 2px rgba(60, 64, 67, 0.3), 0px 1px 3px 1px rgba(60, 64, 67, 0.15);\n",
              "      fill: #174EA6;\n",
              "    }\n",
              "\n",
              "    .colab-df-buttons div {\n",
              "      margin-bottom: 4px;\n",
              "    }\n",
              "\n",
              "    [theme=dark] .colab-df-convert {\n",
              "      background-color: #3B4455;\n",
              "      fill: #D2E3FC;\n",
              "    }\n",
              "\n",
              "    [theme=dark] .colab-df-convert:hover {\n",
              "      background-color: #434B5C;\n",
              "      box-shadow: 0px 1px 3px 1px rgba(0, 0, 0, 0.15);\n",
              "      filter: drop-shadow(0px 1px 2px rgba(0, 0, 0, 0.3));\n",
              "      fill: #FFFFFF;\n",
              "    }\n",
              "  </style>\n",
              "\n",
              "    <script>\n",
              "      const buttonEl =\n",
              "        document.querySelector('#df-75abaa77-6939-43c1-bb1d-91d955e0cd2f button.colab-df-convert');\n",
              "      buttonEl.style.display =\n",
              "        google.colab.kernel.accessAllowed ? 'block' : 'none';\n",
              "\n",
              "      async function convertToInteractive(key) {\n",
              "        const element = document.querySelector('#df-75abaa77-6939-43c1-bb1d-91d955e0cd2f');\n",
              "        const dataTable =\n",
              "          await google.colab.kernel.invokeFunction('convertToInteractive',\n",
              "                                                    [key], {});\n",
              "        if (!dataTable) return;\n",
              "\n",
              "        const docLinkHtml = 'Like what you see? Visit the ' +\n",
              "          '<a target=\"_blank\" href=https://colab.research.google.com/notebooks/data_table.ipynb>data table notebook</a>'\n",
              "          + ' to learn more about interactive tables.';\n",
              "        element.innerHTML = '';\n",
              "        dataTable['output_type'] = 'display_data';\n",
              "        await google.colab.output.renderOutput(dataTable, element);\n",
              "        const docLink = document.createElement('div');\n",
              "        docLink.innerHTML = docLinkHtml;\n",
              "        element.appendChild(docLink);\n",
              "      }\n",
              "    </script>\n",
              "  </div>\n",
              "\n",
              "\n",
              "    <div id=\"df-3d63e0f5-c76d-47e2-beb9-fecfe519cb4f\">\n",
              "      <button class=\"colab-df-quickchart\" onclick=\"quickchart('df-3d63e0f5-c76d-47e2-beb9-fecfe519cb4f')\"\n",
              "                title=\"Suggest charts\"\n",
              "                style=\"display:none;\">\n",
              "\n",
              "<svg xmlns=\"http://www.w3.org/2000/svg\" height=\"24px\"viewBox=\"0 0 24 24\"\n",
              "     width=\"24px\">\n",
              "    <g>\n",
              "        <path d=\"M19 3H5c-1.1 0-2 .9-2 2v14c0 1.1.9 2 2 2h14c1.1 0 2-.9 2-2V5c0-1.1-.9-2-2-2zM9 17H7v-7h2v7zm4 0h-2V7h2v10zm4 0h-2v-4h2v4z\"/>\n",
              "    </g>\n",
              "</svg>\n",
              "      </button>\n",
              "\n",
              "<style>\n",
              "  .colab-df-quickchart {\n",
              "      --bg-color: #E8F0FE;\n",
              "      --fill-color: #1967D2;\n",
              "      --hover-bg-color: #E2EBFA;\n",
              "      --hover-fill-color: #174EA6;\n",
              "      --disabled-fill-color: #AAA;\n",
              "      --disabled-bg-color: #DDD;\n",
              "  }\n",
              "\n",
              "  [theme=dark] .colab-df-quickchart {\n",
              "      --bg-color: #3B4455;\n",
              "      --fill-color: #D2E3FC;\n",
              "      --hover-bg-color: #434B5C;\n",
              "      --hover-fill-color: #FFFFFF;\n",
              "      --disabled-bg-color: #3B4455;\n",
              "      --disabled-fill-color: #666;\n",
              "  }\n",
              "\n",
              "  .colab-df-quickchart {\n",
              "    background-color: var(--bg-color);\n",
              "    border: none;\n",
              "    border-radius: 50%;\n",
              "    cursor: pointer;\n",
              "    display: none;\n",
              "    fill: var(--fill-color);\n",
              "    height: 32px;\n",
              "    padding: 0;\n",
              "    width: 32px;\n",
              "  }\n",
              "\n",
              "  .colab-df-quickchart:hover {\n",
              "    background-color: var(--hover-bg-color);\n",
              "    box-shadow: 0 1px 2px rgba(60, 64, 67, 0.3), 0 1px 3px 1px rgba(60, 64, 67, 0.15);\n",
              "    fill: var(--button-hover-fill-color);\n",
              "  }\n",
              "\n",
              "  .colab-df-quickchart-complete:disabled,\n",
              "  .colab-df-quickchart-complete:disabled:hover {\n",
              "    background-color: var(--disabled-bg-color);\n",
              "    fill: var(--disabled-fill-color);\n",
              "    box-shadow: none;\n",
              "  }\n",
              "\n",
              "  .colab-df-spinner {\n",
              "    border: 2px solid var(--fill-color);\n",
              "    border-color: transparent;\n",
              "    border-bottom-color: var(--fill-color);\n",
              "    animation:\n",
              "      spin 1s steps(1) infinite;\n",
              "  }\n",
              "\n",
              "  @keyframes spin {\n",
              "    0% {\n",
              "      border-color: transparent;\n",
              "      border-bottom-color: var(--fill-color);\n",
              "      border-left-color: var(--fill-color);\n",
              "    }\n",
              "    20% {\n",
              "      border-color: transparent;\n",
              "      border-left-color: var(--fill-color);\n",
              "      border-top-color: var(--fill-color);\n",
              "    }\n",
              "    30% {\n",
              "      border-color: transparent;\n",
              "      border-left-color: var(--fill-color);\n",
              "      border-top-color: var(--fill-color);\n",
              "      border-right-color: var(--fill-color);\n",
              "    }\n",
              "    40% {\n",
              "      border-color: transparent;\n",
              "      border-right-color: var(--fill-color);\n",
              "      border-top-color: var(--fill-color);\n",
              "    }\n",
              "    60% {\n",
              "      border-color: transparent;\n",
              "      border-right-color: var(--fill-color);\n",
              "    }\n",
              "    80% {\n",
              "      border-color: transparent;\n",
              "      border-right-color: var(--fill-color);\n",
              "      border-bottom-color: var(--fill-color);\n",
              "    }\n",
              "    90% {\n",
              "      border-color: transparent;\n",
              "      border-bottom-color: var(--fill-color);\n",
              "    }\n",
              "  }\n",
              "</style>\n",
              "\n",
              "      <script>\n",
              "        async function quickchart(key) {\n",
              "          const quickchartButtonEl =\n",
              "            document.querySelector('#' + key + ' button');\n",
              "          quickchartButtonEl.disabled = true;  // To prevent multiple clicks.\n",
              "          quickchartButtonEl.classList.add('colab-df-spinner');\n",
              "          try {\n",
              "            const charts = await google.colab.kernel.invokeFunction(\n",
              "                'suggestCharts', [key], {});\n",
              "          } catch (error) {\n",
              "            console.error('Error during call to suggestCharts:', error);\n",
              "          }\n",
              "          quickchartButtonEl.classList.remove('colab-df-spinner');\n",
              "          quickchartButtonEl.classList.add('colab-df-quickchart-complete');\n",
              "        }\n",
              "        (() => {\n",
              "          let quickchartButtonEl =\n",
              "            document.querySelector('#df-3d63e0f5-c76d-47e2-beb9-fecfe519cb4f button');\n",
              "          quickchartButtonEl.style.display =\n",
              "            google.colab.kernel.accessAllowed ? 'block' : 'none';\n",
              "        })();\n",
              "      </script>\n",
              "    </div>\n",
              "\n",
              "  <div id=\"id_3c6cbc42-539c-42c1-bcd8-19b47421c4f3\">\n",
              "    <style>\n",
              "      .colab-df-generate {\n",
              "        background-color: #E8F0FE;\n",
              "        border: none;\n",
              "        border-radius: 50%;\n",
              "        cursor: pointer;\n",
              "        display: none;\n",
              "        fill: #1967D2;\n",
              "        height: 32px;\n",
              "        padding: 0 0 0 0;\n",
              "        width: 32px;\n",
              "      }\n",
              "\n",
              "      .colab-df-generate:hover {\n",
              "        background-color: #E2EBFA;\n",
              "        box-shadow: 0px 1px 2px rgba(60, 64, 67, 0.3), 0px 1px 3px 1px rgba(60, 64, 67, 0.15);\n",
              "        fill: #174EA6;\n",
              "      }\n",
              "\n",
              "      [theme=dark] .colab-df-generate {\n",
              "        background-color: #3B4455;\n",
              "        fill: #D2E3FC;\n",
              "      }\n",
              "\n",
              "      [theme=dark] .colab-df-generate:hover {\n",
              "        background-color: #434B5C;\n",
              "        box-shadow: 0px 1px 3px 1px rgba(0, 0, 0, 0.15);\n",
              "        filter: drop-shadow(0px 1px 2px rgba(0, 0, 0, 0.3));\n",
              "        fill: #FFFFFF;\n",
              "      }\n",
              "    </style>\n",
              "    <button class=\"colab-df-generate\" onclick=\"generateWithVariable('npr')\"\n",
              "            title=\"Generate code using this dataframe.\"\n",
              "            style=\"display:none;\">\n",
              "\n",
              "  <svg xmlns=\"http://www.w3.org/2000/svg\" height=\"24px\"viewBox=\"0 0 24 24\"\n",
              "       width=\"24px\">\n",
              "    <path d=\"M7,19H8.4L18.45,9,17,7.55,7,17.6ZM5,21V16.75L18.45,3.32a2,2,0,0,1,2.83,0l1.4,1.43a1.91,1.91,0,0,1,.58,1.4,1.91,1.91,0,0,1-.58,1.4L9.25,21ZM18.45,9,17,7.55Zm-12,3A5.31,5.31,0,0,0,4.9,8.1,5.31,5.31,0,0,0,1,6.5,5.31,5.31,0,0,0,4.9,4.9,5.31,5.31,0,0,0,6.5,1,5.31,5.31,0,0,0,8.1,4.9,5.31,5.31,0,0,0,12,6.5,5.46,5.46,0,0,0,6.5,12Z\"/>\n",
              "  </svg>\n",
              "    </button>\n",
              "    <script>\n",
              "      (() => {\n",
              "      const buttonEl =\n",
              "        document.querySelector('#id_3c6cbc42-539c-42c1-bcd8-19b47421c4f3 button.colab-df-generate');\n",
              "      buttonEl.style.display =\n",
              "        google.colab.kernel.accessAllowed ? 'block' : 'none';\n",
              "\n",
              "      buttonEl.onclick = () => {\n",
              "        google.colab.notebook.generateWithVariable('npr');\n",
              "      }\n",
              "      })();\n",
              "    </script>\n",
              "  </div>\n",
              "\n",
              "    </div>\n",
              "  </div>\n"
            ],
            "application/vnd.google.colaboratory.intrinsic+json": {
              "type": "dataframe",
              "variable_name": "npr",
              "summary": "{\n  \"name\": \"npr\",\n  \"rows\": 11992,\n  \"fields\": [\n    {\n      \"column\": \"Article\",\n      \"properties\": {\n        \"dtype\": \"string\",\n        \"num_unique_values\": 11991,\n        \"samples\": [\n          \"Last week, physicists at the National Institute for Standards and Technology reported they\\u2019d cooled an object to a million times colder than room temperature. It was a record for the   science of  . In this field, researchers inch ever closer to  \\u2014   but never reach  \\u2014   the state of absolute zero temperature. It\\u2019s a science that has some very cool (pun very much intended) applications including   gravity wave detectors for \\u201dhearing\\u201d distant black hole mergers. But moving beyond these applications, why is   so hard to begin with? Why can\\u2019t we just get to absolute zero degrees and be done with it? The answer to this question drops us straight into one of the quantum universe\\u2019s most startling features: The world never rests. To see what this means, let\\u2019s remind ourselves about the meaning of \\u201dtemperature.\\u201d Without getting too technical (we should really be talking about entropy here) temperature for physicists is a measure of random motion. Imagine the gas molecules in the air around you are little cue balls of matter. The higher the air temperature, the faster those little orbs of matter will be ricocheting around the room, bouncing off the walls and each other. So cooling the air means finding some means to slow the molecules down. From this perspective, there there\\u2019s no conceptual reason why you shouldn\\u2019t be able bring them entirely to a halt. Do that, and the air would have a temperature of \\u201dabsolute zero\\u201d degrees (as measured in units called Kelvins. In Fahrenheit, this would be  . 67 degrees). But, it turns out, nature doesn\\u2019t work that way. The universe doesn\\u2019t \\u201ddo\\u201d zero temperatures because it doesn\\u2019t do zero motion. Thinking about matter and motion in the way we described above is what we physicists call \\u201da classical picture.\\u201d In classical physics, matter is made of tiny particles of \\u201dstuff\\u201d and motion is just the change in the particles position with time. It all makes intuitive sense based on our experience of the world at the scale of baseballs and boulders. But a hundred years or so ago, physicists began probing the world on the scale of atoms. What they found was the classical, intuitive picture didn\\u2019t work well for explaining their experiments. In response, they developed a new kind of physics. In an astonishing burst of creativity, they kept key principles from the classical world  \\u2014   like the conservation of energy  \\u2014   but added new rules. One of these was the Uncertainty Principle, which essentially told us that reality is fuzzy at its root level. To be exact, certain pairs of properties  \\u2014   like motion and position  \\u2014   can never be known exactly. The Uncertainty Principle isn\\u2019t saying there\\u2019s something wrong with our instruments. Instead, it tells us there\\u2019s something wrong with our classical intuitions. In particular, when it comes to motion, it tells us it\\u2019s impossible to know the position and the motion of a particle exactly. The more you lock in the position of a particle, the wider the range of velocities the particle can have. So what does this have to do with temperature? Absolute zero should mean bringing particles to a halt. But that would imply you knew exactly where they were. You had them perfectly \\u201dlocalized.\\u201d If that\\u2019s the case, then the Uncertainty Principle demands there must be some uncertainty in their motion. They can\\u2019t be perfectly known to be perfectly at rest. The deeper meaning of this this quantum logic is that the universe can never be at rest. There is a \\u201dfloor\\u201d to how much things can be slowed down (or cooled). It\\u2019s impossible to go below that floor (though scientists do get ever more clever in skirting its edges). The implications of this can get pretty strange. Imagine we put a particle, like an electron, in a box. Now we ask: What\\u2019s the lowest energy state of the electron + box system? In classical physics, it would just be the electron sitting there unmoving  \\u2014   i. e. zero motion, hence zero energy. But quantum physics won\\u2019t allow such a thing as zero energy (because of the Uncertainty Principle). Instead, the system has   \\u201dground state\\u201d energy with the electron bouncing back and forth between the box walls. That\\u2019s as low as you can go. The electron can\\u2019t be stopped. Take this idea further, and you get to the delicious idea of vacuum energy. There the Uncertainty Principle demands that there can be no pure and perfect vacuum with a state of zero energy. Thus, in quantum physics, the vacuum is not empty but is a seething froth of \\u201dvirtual particles\\u201d that are never manifested and yet have a verifiable effect on the particles we do see. No vacuum. No zero energy. No zero temperature. No common sense expectation about the world\\u2019s behavior. The discovery that the quantum world was the foundation for our   classical experience was a triumph of science. It was a validation of science\\u2019s ability to take us beyond our limited senses and limited concepts. There is no way to \\u201dpicture\\u201d this quantum world with our classical imaginations. Instead, what we found was a new frontier. At its root, quantum physics showed us that this world we inhabit is dynamic to its very core: buzzing, roaring, shuddering and trembling like an infinite Jackson Pollack painting. It is not just richer than we imagined, but stranger and more wonderful than we can imagine. That view, hidden in the impossibility of absolute zero temperature, is a gift that science has given us all. Now what are we to make of it? Adam Frank is a   of the 13. 7 blog, an astrophysics professor at the University of Rochester, a book author and a   \\u201devangelist of science.\\u201d You can keep up with more of what Adam is thinking on Facebook and Twitter: @adamfrank4\",\n          \"President Trump hosted Russian Foreign Minister Sergey Lavrov at the White House on Wednesday, one day after firing the man whose agency is investigating Russia\\u2019s meddling in the 2016 election that brought Trump to power. Trump fired   FBI Director James Comey, who told Congress earlier this year that his agency has been investigating Russia\\u2019s actions  \\u2014   and possible ties to anyone associated with the Trump campaign  \\u2014   since July. As NPR\\u2019s Domenico Montanaro reports, the firing of Comey with more than six years left on his term in office has prompted a flurry of questions about the president\\u2019s motives  \\u2014   and about what\\u2019s next. Lavrov\\u2019s meeting with the president was scheduled for 10:30 a. m. ET, and it was declared closed to the press. Russian agencies tweeted photos from the Oval Office showing that in addition to Lavrov, Trump shook hands with Russia\\u2019s ambassador to America, Sergey Kislyak  \\u2014   a key figure in the investigation into Trump\\u2019s ousted national security adviser, Michael Flynn. After the Lavrov session had concluded, members of the U. S. media were allowed into the Oval Office, where they found the president sitting with Henry Kissinger, who served as President Richard Nixon\\u2019s secretary of state. The meeting hadn\\u2019t been listed on the president\\u2019s official schedule. Trump said he and Kissinger had met to talk \\u201dabout Russia and various other matters,\\u201d according to the pool report. To a question about Comey, Trump reportedly replied, \\u201dHe wasn\\u2019t doing a good job. Very simply. He was not doing a good job.\\u201d The president also said the issue had not affected his meeting with Lavrov. Lavrov arrived in Washington on Tuesday. He met with Secretary of State Rex Tillerson at the White House early Wednesday, ahead of his visit to the Oval Office. Tillerson and Lavrov made a brief appearance Wednesday morning for a   and as Tillerson began to lead his guest back behind closed doors, Lavrov responded to a question about Comey\\u2019s firing. When a reporter asked whether the dismissal has \\u201dcast a shadow\\u201d over their talks, Lavrov stopped and seemed to look genuinely quizzical when he responded, \\u201dWas he fired?\\u201d  \\u2014   but then adopted a deadpan tone as he told the reporter, \\u201dYou are kidding, you are kidding.\\u201d With a theatrical twitch of his head, the Russian diplomat then followed his American counterpart away from the media. The exchange was not included in the State Department\\u2019s brief video snippet from the   that it posted to Twitter. Tillerson\\u2019s office said his talks with Lavrov would focus on \\u201dUkraine, Syria, and bilateral issues.\\u201d But the Russians\\u2019 visit to the White House also came as the Kremlin made its first public comments on Comey\\u2019s removal. When Russian presidential spokesman Dmitry Peskov was asked how the firing might affect U. S.  relations, Peskov replied, \\u201dWe hope that it will not affect them at all. That\\u2019s the United States\\u2019 internal affair. That\\u2019s the U. S. president\\u2019s independent decision, which has nothing to do and should have nothing to do with Russia.\\u201d Comey\\u2019s dismissal has sparked new calls for an independent probe into Russia\\u2019s attempts to influence last year\\u2019s U. S. presidential election  \\u2014   despite the Trump administration\\u2019s assertion that Comey was removed over his handling of the investigation into Clinton\\u2019s private email server. \\u201dThis is nothing less than Nixonian,\\u201d said Patrick Leahy,  . a longtime member of the Senate Judiciary Committee. Announcing Comey\\u2019s abrupt firing Tuesday afternoon, White House press secretary Sean Spicer said the president \\u201dacted based on the clear recommendations of both Deputy Attorney General Rod Rosenstein and Attorney General Jeff Sessions.\\u201d\",\n          \"Republican presidential nominee Donald Trump has been calling for a criminal investigation of his political opponent Hillary Clinton on the campaign trail this year. Trump is angry the FBI probe of Clinton\\u2019s email server ended with no charges. Now, he says, an independent outsider needs to look at the Clinton Foundation. \\u201dThe Justice Department is required to appoint an independent special prosecutor because it has proven itself to be really, sadly, a political arm of the White House,\\u201d Trump said in Akron, Ohio, last week. Trump has offered no evidence to back up his claims that the Justice Department has been corrupted. But his call for a special prosecutor sounds familiar to people who study the intersection of law and politics. \\u201dIf you look at the chronology, pretty much the political party that does not control the White House tends to want special prosecutors and independent counsel laws,\\u201d said Ken Gormley, president of Duquesne University in Pittsburgh and the author of two books on special prosecutors. \\u201dAs soon as the party is in the White House, they don\\u2019t want it anymore.\\u201d In modern times, the idea first cropped up during the 1970s. President Richard Nixon notoriously fired a special prosecutor who was getting close to the tapes that would bring down his administration. Five months after what became known as the Saturday Night Massacre, Congress started work on an independent counsel law. The idea was to insulate sensitive criminal investigations from meddling by the White House. The law would stand for about 20 years. It didn\\u2019t produce many criminal convictions, but it did stir up a lot of trouble for presidents  \\u2014   and the people close to them. In 1996, Hillary Clinton became the first sitting first lady to testify before a grand jury. This one was investigating the Whitewater affair, an investigation that began with a real estate investment and morphed into scrutiny of President Bill Clinton\\u2019s sexual improprieties. Hillary Clinton was never charged with wrongdoing, but the investigation left a mark. Years later, Gormley interviewed Bill Clinton about it. \\u201dHe made clear that his decision to allow and endorse the appointment of an independent counsel in the Whitewater matter was one of the biggest mistakes of his presidency,\\u201d Gormley said. \\u201dIn fact, the words he used at one point is that it was like Wile E. Coyote and the Road Runner. And almost from the moment he was in the White House, there were political opponents using special prosecutors to bring him down, and they were off to the races.\\u201d By 1999, when Congress considered whether to renew the statute, opposition came from nearly all sides. Even Whitewater independent counsel Ken Starr told Congress the law had become a political weapon. \\u201dThe statutory mechanism intended to enhance confidence in law enforcement had the effect of weakening it,\\u201d Starr said, in arguing the law should not be reauthorized. \\u201dJurisdiction and authority over these sensitive matters ought to be returned to the Justice Department. And who will oversee them? The Congress, the press, the public.\\u201d That\\u2019s exactly what happened. The law expired. But the Justice Department can still use special prosecutors. They\\u2019re career lawyers, protected from political leaders at Justice by a firewall. During the George W. Bush years, special prosecutor Patrick Fitzgerald charged and convicted a top aide to the vice president. Justice Department leaders went on to deploy special prosecutors to investigate the firings of U. S. attorneys and the destruction of videotapes that showed torture of detainees. But authorities have relied on those prosecutors only sparingly, a position adopted by many, including Gormley. \\u201dI think I\\u2019ve come to the conclusion that we are better off when we have less of these investigations rather than more,\\u201d he said. \\u201dThey should be reserved for very special and extreme occasions.\\u201d Otherwise, Gormley argued, they could distract from what\\u2019s really important. \\u201dAs we as a country were just obsessed with the issue of Whitewater, Paula Jones, Monica Lewinsky and all of these distractions during the 1990s, there were people inside and outside the country literally plotting our attack,\\u201d he said. One of them, Gormley said, was Osama bin Laden.\"\n        ],\n        \"semantic_type\": \"\",\n        \"description\": \"\"\n      }\n    }\n  ]\n}"
            }
          },
          "metadata": {},
          "execution_count": 40
        }
      ]
    },
    {
      "cell_type": "markdown",
      "source": [
        "We need to create a new column that has their topic number"
      ],
      "metadata": {
        "id": "EC5FIrqzxjoy"
      }
    },
    {
      "cell_type": "code",
      "source": [
        "# CREATING A LIST THE ACTUAL TOPICS OFF THE dtm (document term matrix)\n",
        "topic_results = LDA.transform(dtm)"
      ],
      "metadata": {
        "id": "8fOnxjihxFHC"
      },
      "execution_count": 42,
      "outputs": []
    },
    {
      "cell_type": "code",
      "source": [
        "topic_results.shape"
      ],
      "metadata": {
        "colab": {
          "base_uri": "https://localhost:8080/"
        },
        "id": "oKDEg3vAxYL6",
        "outputId": "3c037700-834c-41cf-db47-60fe3cf91dc2"
      },
      "execution_count": 43,
      "outputs": [
        {
          "output_type": "execute_result",
          "data": {
            "text/plain": [
              "(11992, 7)"
            ]
          },
          "metadata": {},
          "execution_count": 43
        }
      ]
    },
    {
      "cell_type": "code",
      "source": [
        "npr['Topic'] = topic_results.argmax(axis=1)"
      ],
      "metadata": {
        "id": "YeHUhYWFyvmh"
      },
      "execution_count": 47,
      "outputs": []
    },
    {
      "cell_type": "code",
      "source": [
        "npr"
      ],
      "metadata": {
        "colab": {
          "base_uri": "https://localhost:8080/",
          "height": 424
        },
        "id": "nhJ9E_s6zFkg",
        "outputId": "d119d297-5108-433b-df8c-fe4d75d69c77"
      },
      "execution_count": 48,
      "outputs": [
        {
          "output_type": "execute_result",
          "data": {
            "text/plain": [
              "                                                 Article  Topic\n",
              "0      In the Washington of 2016, even when the polic...      1\n",
              "1        Donald Trump has used Twitter  —   his prefe...      1\n",
              "2        Donald Trump is unabashedly praising Russian...      1\n",
              "3      Updated at 2:50 p. m. ET, Russian President Vl...      1\n",
              "4      From photography, illustration and video, to d...      2\n",
              "...                                                  ...    ...\n",
              "11987  The number of law enforcement officers shot an...      1\n",
              "11988    Trump is busy these days with victory tours,...      4\n",
              "11989  It’s always interesting for the Goats and Soda...      3\n",
              "11990  The election of Donald Trump was a surprise to...      4\n",
              "11991  Voters in the English city of Sunderland did s...      0\n",
              "\n",
              "[11992 rows x 2 columns]"
            ],
            "text/html": [
              "\n",
              "  <div id=\"df-9838fce4-1931-44b9-b4a4-f93475f5f6ac\" class=\"colab-df-container\">\n",
              "    <div>\n",
              "<style scoped>\n",
              "    .dataframe tbody tr th:only-of-type {\n",
              "        vertical-align: middle;\n",
              "    }\n",
              "\n",
              "    .dataframe tbody tr th {\n",
              "        vertical-align: top;\n",
              "    }\n",
              "\n",
              "    .dataframe thead th {\n",
              "        text-align: right;\n",
              "    }\n",
              "</style>\n",
              "<table border=\"1\" class=\"dataframe\">\n",
              "  <thead>\n",
              "    <tr style=\"text-align: right;\">\n",
              "      <th></th>\n",
              "      <th>Article</th>\n",
              "      <th>Topic</th>\n",
              "    </tr>\n",
              "  </thead>\n",
              "  <tbody>\n",
              "    <tr>\n",
              "      <th>0</th>\n",
              "      <td>In the Washington of 2016, even when the polic...</td>\n",
              "      <td>1</td>\n",
              "    </tr>\n",
              "    <tr>\n",
              "      <th>1</th>\n",
              "      <td>Donald Trump has used Twitter  —   his prefe...</td>\n",
              "      <td>1</td>\n",
              "    </tr>\n",
              "    <tr>\n",
              "      <th>2</th>\n",
              "      <td>Donald Trump is unabashedly praising Russian...</td>\n",
              "      <td>1</td>\n",
              "    </tr>\n",
              "    <tr>\n",
              "      <th>3</th>\n",
              "      <td>Updated at 2:50 p. m. ET, Russian President Vl...</td>\n",
              "      <td>1</td>\n",
              "    </tr>\n",
              "    <tr>\n",
              "      <th>4</th>\n",
              "      <td>From photography, illustration and video, to d...</td>\n",
              "      <td>2</td>\n",
              "    </tr>\n",
              "    <tr>\n",
              "      <th>...</th>\n",
              "      <td>...</td>\n",
              "      <td>...</td>\n",
              "    </tr>\n",
              "    <tr>\n",
              "      <th>11987</th>\n",
              "      <td>The number of law enforcement officers shot an...</td>\n",
              "      <td>1</td>\n",
              "    </tr>\n",
              "    <tr>\n",
              "      <th>11988</th>\n",
              "      <td>Trump is busy these days with victory tours,...</td>\n",
              "      <td>4</td>\n",
              "    </tr>\n",
              "    <tr>\n",
              "      <th>11989</th>\n",
              "      <td>It’s always interesting for the Goats and Soda...</td>\n",
              "      <td>3</td>\n",
              "    </tr>\n",
              "    <tr>\n",
              "      <th>11990</th>\n",
              "      <td>The election of Donald Trump was a surprise to...</td>\n",
              "      <td>4</td>\n",
              "    </tr>\n",
              "    <tr>\n",
              "      <th>11991</th>\n",
              "      <td>Voters in the English city of Sunderland did s...</td>\n",
              "      <td>0</td>\n",
              "    </tr>\n",
              "  </tbody>\n",
              "</table>\n",
              "<p>11992 rows × 2 columns</p>\n",
              "</div>\n",
              "    <div class=\"colab-df-buttons\">\n",
              "\n",
              "  <div class=\"colab-df-container\">\n",
              "    <button class=\"colab-df-convert\" onclick=\"convertToInteractive('df-9838fce4-1931-44b9-b4a4-f93475f5f6ac')\"\n",
              "            title=\"Convert this dataframe to an interactive table.\"\n",
              "            style=\"display:none;\">\n",
              "\n",
              "  <svg xmlns=\"http://www.w3.org/2000/svg\" height=\"24px\" viewBox=\"0 -960 960 960\">\n",
              "    <path d=\"M120-120v-720h720v720H120Zm60-500h600v-160H180v160Zm220 220h160v-160H400v160Zm0 220h160v-160H400v160ZM180-400h160v-160H180v160Zm440 0h160v-160H620v160ZM180-180h160v-160H180v160Zm440 0h160v-160H620v160Z\"/>\n",
              "  </svg>\n",
              "    </button>\n",
              "\n",
              "  <style>\n",
              "    .colab-df-container {\n",
              "      display:flex;\n",
              "      gap: 12px;\n",
              "    }\n",
              "\n",
              "    .colab-df-convert {\n",
              "      background-color: #E8F0FE;\n",
              "      border: none;\n",
              "      border-radius: 50%;\n",
              "      cursor: pointer;\n",
              "      display: none;\n",
              "      fill: #1967D2;\n",
              "      height: 32px;\n",
              "      padding: 0 0 0 0;\n",
              "      width: 32px;\n",
              "    }\n",
              "\n",
              "    .colab-df-convert:hover {\n",
              "      background-color: #E2EBFA;\n",
              "      box-shadow: 0px 1px 2px rgba(60, 64, 67, 0.3), 0px 1px 3px 1px rgba(60, 64, 67, 0.15);\n",
              "      fill: #174EA6;\n",
              "    }\n",
              "\n",
              "    .colab-df-buttons div {\n",
              "      margin-bottom: 4px;\n",
              "    }\n",
              "\n",
              "    [theme=dark] .colab-df-convert {\n",
              "      background-color: #3B4455;\n",
              "      fill: #D2E3FC;\n",
              "    }\n",
              "\n",
              "    [theme=dark] .colab-df-convert:hover {\n",
              "      background-color: #434B5C;\n",
              "      box-shadow: 0px 1px 3px 1px rgba(0, 0, 0, 0.15);\n",
              "      filter: drop-shadow(0px 1px 2px rgba(0, 0, 0, 0.3));\n",
              "      fill: #FFFFFF;\n",
              "    }\n",
              "  </style>\n",
              "\n",
              "    <script>\n",
              "      const buttonEl =\n",
              "        document.querySelector('#df-9838fce4-1931-44b9-b4a4-f93475f5f6ac button.colab-df-convert');\n",
              "      buttonEl.style.display =\n",
              "        google.colab.kernel.accessAllowed ? 'block' : 'none';\n",
              "\n",
              "      async function convertToInteractive(key) {\n",
              "        const element = document.querySelector('#df-9838fce4-1931-44b9-b4a4-f93475f5f6ac');\n",
              "        const dataTable =\n",
              "          await google.colab.kernel.invokeFunction('convertToInteractive',\n",
              "                                                    [key], {});\n",
              "        if (!dataTable) return;\n",
              "\n",
              "        const docLinkHtml = 'Like what you see? Visit the ' +\n",
              "          '<a target=\"_blank\" href=https://colab.research.google.com/notebooks/data_table.ipynb>data table notebook</a>'\n",
              "          + ' to learn more about interactive tables.';\n",
              "        element.innerHTML = '';\n",
              "        dataTable['output_type'] = 'display_data';\n",
              "        await google.colab.output.renderOutput(dataTable, element);\n",
              "        const docLink = document.createElement('div');\n",
              "        docLink.innerHTML = docLinkHtml;\n",
              "        element.appendChild(docLink);\n",
              "      }\n",
              "    </script>\n",
              "  </div>\n",
              "\n",
              "\n",
              "    <div id=\"df-4a70029c-77d7-49c2-be68-44f66523a547\">\n",
              "      <button class=\"colab-df-quickchart\" onclick=\"quickchart('df-4a70029c-77d7-49c2-be68-44f66523a547')\"\n",
              "                title=\"Suggest charts\"\n",
              "                style=\"display:none;\">\n",
              "\n",
              "<svg xmlns=\"http://www.w3.org/2000/svg\" height=\"24px\"viewBox=\"0 0 24 24\"\n",
              "     width=\"24px\">\n",
              "    <g>\n",
              "        <path d=\"M19 3H5c-1.1 0-2 .9-2 2v14c0 1.1.9 2 2 2h14c1.1 0 2-.9 2-2V5c0-1.1-.9-2-2-2zM9 17H7v-7h2v7zm4 0h-2V7h2v10zm4 0h-2v-4h2v4z\"/>\n",
              "    </g>\n",
              "</svg>\n",
              "      </button>\n",
              "\n",
              "<style>\n",
              "  .colab-df-quickchart {\n",
              "      --bg-color: #E8F0FE;\n",
              "      --fill-color: #1967D2;\n",
              "      --hover-bg-color: #E2EBFA;\n",
              "      --hover-fill-color: #174EA6;\n",
              "      --disabled-fill-color: #AAA;\n",
              "      --disabled-bg-color: #DDD;\n",
              "  }\n",
              "\n",
              "  [theme=dark] .colab-df-quickchart {\n",
              "      --bg-color: #3B4455;\n",
              "      --fill-color: #D2E3FC;\n",
              "      --hover-bg-color: #434B5C;\n",
              "      --hover-fill-color: #FFFFFF;\n",
              "      --disabled-bg-color: #3B4455;\n",
              "      --disabled-fill-color: #666;\n",
              "  }\n",
              "\n",
              "  .colab-df-quickchart {\n",
              "    background-color: var(--bg-color);\n",
              "    border: none;\n",
              "    border-radius: 50%;\n",
              "    cursor: pointer;\n",
              "    display: none;\n",
              "    fill: var(--fill-color);\n",
              "    height: 32px;\n",
              "    padding: 0;\n",
              "    width: 32px;\n",
              "  }\n",
              "\n",
              "  .colab-df-quickchart:hover {\n",
              "    background-color: var(--hover-bg-color);\n",
              "    box-shadow: 0 1px 2px rgba(60, 64, 67, 0.3), 0 1px 3px 1px rgba(60, 64, 67, 0.15);\n",
              "    fill: var(--button-hover-fill-color);\n",
              "  }\n",
              "\n",
              "  .colab-df-quickchart-complete:disabled,\n",
              "  .colab-df-quickchart-complete:disabled:hover {\n",
              "    background-color: var(--disabled-bg-color);\n",
              "    fill: var(--disabled-fill-color);\n",
              "    box-shadow: none;\n",
              "  }\n",
              "\n",
              "  .colab-df-spinner {\n",
              "    border: 2px solid var(--fill-color);\n",
              "    border-color: transparent;\n",
              "    border-bottom-color: var(--fill-color);\n",
              "    animation:\n",
              "      spin 1s steps(1) infinite;\n",
              "  }\n",
              "\n",
              "  @keyframes spin {\n",
              "    0% {\n",
              "      border-color: transparent;\n",
              "      border-bottom-color: var(--fill-color);\n",
              "      border-left-color: var(--fill-color);\n",
              "    }\n",
              "    20% {\n",
              "      border-color: transparent;\n",
              "      border-left-color: var(--fill-color);\n",
              "      border-top-color: var(--fill-color);\n",
              "    }\n",
              "    30% {\n",
              "      border-color: transparent;\n",
              "      border-left-color: var(--fill-color);\n",
              "      border-top-color: var(--fill-color);\n",
              "      border-right-color: var(--fill-color);\n",
              "    }\n",
              "    40% {\n",
              "      border-color: transparent;\n",
              "      border-right-color: var(--fill-color);\n",
              "      border-top-color: var(--fill-color);\n",
              "    }\n",
              "    60% {\n",
              "      border-color: transparent;\n",
              "      border-right-color: var(--fill-color);\n",
              "    }\n",
              "    80% {\n",
              "      border-color: transparent;\n",
              "      border-right-color: var(--fill-color);\n",
              "      border-bottom-color: var(--fill-color);\n",
              "    }\n",
              "    90% {\n",
              "      border-color: transparent;\n",
              "      border-bottom-color: var(--fill-color);\n",
              "    }\n",
              "  }\n",
              "</style>\n",
              "\n",
              "      <script>\n",
              "        async function quickchart(key) {\n",
              "          const quickchartButtonEl =\n",
              "            document.querySelector('#' + key + ' button');\n",
              "          quickchartButtonEl.disabled = true;  // To prevent multiple clicks.\n",
              "          quickchartButtonEl.classList.add('colab-df-spinner');\n",
              "          try {\n",
              "            const charts = await google.colab.kernel.invokeFunction(\n",
              "                'suggestCharts', [key], {});\n",
              "          } catch (error) {\n",
              "            console.error('Error during call to suggestCharts:', error);\n",
              "          }\n",
              "          quickchartButtonEl.classList.remove('colab-df-spinner');\n",
              "          quickchartButtonEl.classList.add('colab-df-quickchart-complete');\n",
              "        }\n",
              "        (() => {\n",
              "          let quickchartButtonEl =\n",
              "            document.querySelector('#df-4a70029c-77d7-49c2-be68-44f66523a547 button');\n",
              "          quickchartButtonEl.style.display =\n",
              "            google.colab.kernel.accessAllowed ? 'block' : 'none';\n",
              "        })();\n",
              "      </script>\n",
              "    </div>\n",
              "\n",
              "  <div id=\"id_96a2c365-c2ba-450a-b0a7-2940784d0bb4\">\n",
              "    <style>\n",
              "      .colab-df-generate {\n",
              "        background-color: #E8F0FE;\n",
              "        border: none;\n",
              "        border-radius: 50%;\n",
              "        cursor: pointer;\n",
              "        display: none;\n",
              "        fill: #1967D2;\n",
              "        height: 32px;\n",
              "        padding: 0 0 0 0;\n",
              "        width: 32px;\n",
              "      }\n",
              "\n",
              "      .colab-df-generate:hover {\n",
              "        background-color: #E2EBFA;\n",
              "        box-shadow: 0px 1px 2px rgba(60, 64, 67, 0.3), 0px 1px 3px 1px rgba(60, 64, 67, 0.15);\n",
              "        fill: #174EA6;\n",
              "      }\n",
              "\n",
              "      [theme=dark] .colab-df-generate {\n",
              "        background-color: #3B4455;\n",
              "        fill: #D2E3FC;\n",
              "      }\n",
              "\n",
              "      [theme=dark] .colab-df-generate:hover {\n",
              "        background-color: #434B5C;\n",
              "        box-shadow: 0px 1px 3px 1px rgba(0, 0, 0, 0.15);\n",
              "        filter: drop-shadow(0px 1px 2px rgba(0, 0, 0, 0.3));\n",
              "        fill: #FFFFFF;\n",
              "      }\n",
              "    </style>\n",
              "    <button class=\"colab-df-generate\" onclick=\"generateWithVariable('npr')\"\n",
              "            title=\"Generate code using this dataframe.\"\n",
              "            style=\"display:none;\">\n",
              "\n",
              "  <svg xmlns=\"http://www.w3.org/2000/svg\" height=\"24px\"viewBox=\"0 0 24 24\"\n",
              "       width=\"24px\">\n",
              "    <path d=\"M7,19H8.4L18.45,9,17,7.55,7,17.6ZM5,21V16.75L18.45,3.32a2,2,0,0,1,2.83,0l1.4,1.43a1.91,1.91,0,0,1,.58,1.4,1.91,1.91,0,0,1-.58,1.4L9.25,21ZM18.45,9,17,7.55Zm-12,3A5.31,5.31,0,0,0,4.9,8.1,5.31,5.31,0,0,0,1,6.5,5.31,5.31,0,0,0,4.9,4.9,5.31,5.31,0,0,0,6.5,1,5.31,5.31,0,0,0,8.1,4.9,5.31,5.31,0,0,0,12,6.5,5.46,5.46,0,0,0,6.5,12Z\"/>\n",
              "  </svg>\n",
              "    </button>\n",
              "    <script>\n",
              "      (() => {\n",
              "      const buttonEl =\n",
              "        document.querySelector('#id_96a2c365-c2ba-450a-b0a7-2940784d0bb4 button.colab-df-generate');\n",
              "      buttonEl.style.display =\n",
              "        google.colab.kernel.accessAllowed ? 'block' : 'none';\n",
              "\n",
              "      buttonEl.onclick = () => {\n",
              "        google.colab.notebook.generateWithVariable('npr');\n",
              "      }\n",
              "      })();\n",
              "    </script>\n",
              "  </div>\n",
              "\n",
              "    </div>\n",
              "  </div>\n"
            ],
            "application/vnd.google.colaboratory.intrinsic+json": {
              "type": "dataframe",
              "variable_name": "npr",
              "summary": "{\n  \"name\": \"npr\",\n  \"rows\": 11992,\n  \"fields\": [\n    {\n      \"column\": \"Article\",\n      \"properties\": {\n        \"dtype\": \"string\",\n        \"num_unique_values\": 11991,\n        \"samples\": [\n          \"Last week, physicists at the National Institute for Standards and Technology reported they\\u2019d cooled an object to a million times colder than room temperature. It was a record for the   science of  . In this field, researchers inch ever closer to  \\u2014   but never reach  \\u2014   the state of absolute zero temperature. It\\u2019s a science that has some very cool (pun very much intended) applications including   gravity wave detectors for \\u201dhearing\\u201d distant black hole mergers. But moving beyond these applications, why is   so hard to begin with? Why can\\u2019t we just get to absolute zero degrees and be done with it? The answer to this question drops us straight into one of the quantum universe\\u2019s most startling features: The world never rests. To see what this means, let\\u2019s remind ourselves about the meaning of \\u201dtemperature.\\u201d Without getting too technical (we should really be talking about entropy here) temperature for physicists is a measure of random motion. Imagine the gas molecules in the air around you are little cue balls of matter. The higher the air temperature, the faster those little orbs of matter will be ricocheting around the room, bouncing off the walls and each other. So cooling the air means finding some means to slow the molecules down. From this perspective, there there\\u2019s no conceptual reason why you shouldn\\u2019t be able bring them entirely to a halt. Do that, and the air would have a temperature of \\u201dabsolute zero\\u201d degrees (as measured in units called Kelvins. In Fahrenheit, this would be  . 67 degrees). But, it turns out, nature doesn\\u2019t work that way. The universe doesn\\u2019t \\u201ddo\\u201d zero temperatures because it doesn\\u2019t do zero motion. Thinking about matter and motion in the way we described above is what we physicists call \\u201da classical picture.\\u201d In classical physics, matter is made of tiny particles of \\u201dstuff\\u201d and motion is just the change in the particles position with time. It all makes intuitive sense based on our experience of the world at the scale of baseballs and boulders. But a hundred years or so ago, physicists began probing the world on the scale of atoms. What they found was the classical, intuitive picture didn\\u2019t work well for explaining their experiments. In response, they developed a new kind of physics. In an astonishing burst of creativity, they kept key principles from the classical world  \\u2014   like the conservation of energy  \\u2014   but added new rules. One of these was the Uncertainty Principle, which essentially told us that reality is fuzzy at its root level. To be exact, certain pairs of properties  \\u2014   like motion and position  \\u2014   can never be known exactly. The Uncertainty Principle isn\\u2019t saying there\\u2019s something wrong with our instruments. Instead, it tells us there\\u2019s something wrong with our classical intuitions. In particular, when it comes to motion, it tells us it\\u2019s impossible to know the position and the motion of a particle exactly. The more you lock in the position of a particle, the wider the range of velocities the particle can have. So what does this have to do with temperature? Absolute zero should mean bringing particles to a halt. But that would imply you knew exactly where they were. You had them perfectly \\u201dlocalized.\\u201d If that\\u2019s the case, then the Uncertainty Principle demands there must be some uncertainty in their motion. They can\\u2019t be perfectly known to be perfectly at rest. The deeper meaning of this this quantum logic is that the universe can never be at rest. There is a \\u201dfloor\\u201d to how much things can be slowed down (or cooled). It\\u2019s impossible to go below that floor (though scientists do get ever more clever in skirting its edges). The implications of this can get pretty strange. Imagine we put a particle, like an electron, in a box. Now we ask: What\\u2019s the lowest energy state of the electron + box system? In classical physics, it would just be the electron sitting there unmoving  \\u2014   i. e. zero motion, hence zero energy. But quantum physics won\\u2019t allow such a thing as zero energy (because of the Uncertainty Principle). Instead, the system has   \\u201dground state\\u201d energy with the electron bouncing back and forth between the box walls. That\\u2019s as low as you can go. The electron can\\u2019t be stopped. Take this idea further, and you get to the delicious idea of vacuum energy. There the Uncertainty Principle demands that there can be no pure and perfect vacuum with a state of zero energy. Thus, in quantum physics, the vacuum is not empty but is a seething froth of \\u201dvirtual particles\\u201d that are never manifested and yet have a verifiable effect on the particles we do see. No vacuum. No zero energy. No zero temperature. No common sense expectation about the world\\u2019s behavior. The discovery that the quantum world was the foundation for our   classical experience was a triumph of science. It was a validation of science\\u2019s ability to take us beyond our limited senses and limited concepts. There is no way to \\u201dpicture\\u201d this quantum world with our classical imaginations. Instead, what we found was a new frontier. At its root, quantum physics showed us that this world we inhabit is dynamic to its very core: buzzing, roaring, shuddering and trembling like an infinite Jackson Pollack painting. It is not just richer than we imagined, but stranger and more wonderful than we can imagine. That view, hidden in the impossibility of absolute zero temperature, is a gift that science has given us all. Now what are we to make of it? Adam Frank is a   of the 13. 7 blog, an astrophysics professor at the University of Rochester, a book author and a   \\u201devangelist of science.\\u201d You can keep up with more of what Adam is thinking on Facebook and Twitter: @adamfrank4\",\n          \"President Trump hosted Russian Foreign Minister Sergey Lavrov at the White House on Wednesday, one day after firing the man whose agency is investigating Russia\\u2019s meddling in the 2016 election that brought Trump to power. Trump fired   FBI Director James Comey, who told Congress earlier this year that his agency has been investigating Russia\\u2019s actions  \\u2014   and possible ties to anyone associated with the Trump campaign  \\u2014   since July. As NPR\\u2019s Domenico Montanaro reports, the firing of Comey with more than six years left on his term in office has prompted a flurry of questions about the president\\u2019s motives  \\u2014   and about what\\u2019s next. Lavrov\\u2019s meeting with the president was scheduled for 10:30 a. m. ET, and it was declared closed to the press. Russian agencies tweeted photos from the Oval Office showing that in addition to Lavrov, Trump shook hands with Russia\\u2019s ambassador to America, Sergey Kislyak  \\u2014   a key figure in the investigation into Trump\\u2019s ousted national security adviser, Michael Flynn. After the Lavrov session had concluded, members of the U. S. media were allowed into the Oval Office, where they found the president sitting with Henry Kissinger, who served as President Richard Nixon\\u2019s secretary of state. The meeting hadn\\u2019t been listed on the president\\u2019s official schedule. Trump said he and Kissinger had met to talk \\u201dabout Russia and various other matters,\\u201d according to the pool report. To a question about Comey, Trump reportedly replied, \\u201dHe wasn\\u2019t doing a good job. Very simply. He was not doing a good job.\\u201d The president also said the issue had not affected his meeting with Lavrov. Lavrov arrived in Washington on Tuesday. He met with Secretary of State Rex Tillerson at the White House early Wednesday, ahead of his visit to the Oval Office. Tillerson and Lavrov made a brief appearance Wednesday morning for a   and as Tillerson began to lead his guest back behind closed doors, Lavrov responded to a question about Comey\\u2019s firing. When a reporter asked whether the dismissal has \\u201dcast a shadow\\u201d over their talks, Lavrov stopped and seemed to look genuinely quizzical when he responded, \\u201dWas he fired?\\u201d  \\u2014   but then adopted a deadpan tone as he told the reporter, \\u201dYou are kidding, you are kidding.\\u201d With a theatrical twitch of his head, the Russian diplomat then followed his American counterpart away from the media. The exchange was not included in the State Department\\u2019s brief video snippet from the   that it posted to Twitter. Tillerson\\u2019s office said his talks with Lavrov would focus on \\u201dUkraine, Syria, and bilateral issues.\\u201d But the Russians\\u2019 visit to the White House also came as the Kremlin made its first public comments on Comey\\u2019s removal. When Russian presidential spokesman Dmitry Peskov was asked how the firing might affect U. S.  relations, Peskov replied, \\u201dWe hope that it will not affect them at all. That\\u2019s the United States\\u2019 internal affair. That\\u2019s the U. S. president\\u2019s independent decision, which has nothing to do and should have nothing to do with Russia.\\u201d Comey\\u2019s dismissal has sparked new calls for an independent probe into Russia\\u2019s attempts to influence last year\\u2019s U. S. presidential election  \\u2014   despite the Trump administration\\u2019s assertion that Comey was removed over his handling of the investigation into Clinton\\u2019s private email server. \\u201dThis is nothing less than Nixonian,\\u201d said Patrick Leahy,  . a longtime member of the Senate Judiciary Committee. Announcing Comey\\u2019s abrupt firing Tuesday afternoon, White House press secretary Sean Spicer said the president \\u201dacted based on the clear recommendations of both Deputy Attorney General Rod Rosenstein and Attorney General Jeff Sessions.\\u201d\",\n          \"Republican presidential nominee Donald Trump has been calling for a criminal investigation of his political opponent Hillary Clinton on the campaign trail this year. Trump is angry the FBI probe of Clinton\\u2019s email server ended with no charges. Now, he says, an independent outsider needs to look at the Clinton Foundation. \\u201dThe Justice Department is required to appoint an independent special prosecutor because it has proven itself to be really, sadly, a political arm of the White House,\\u201d Trump said in Akron, Ohio, last week. Trump has offered no evidence to back up his claims that the Justice Department has been corrupted. But his call for a special prosecutor sounds familiar to people who study the intersection of law and politics. \\u201dIf you look at the chronology, pretty much the political party that does not control the White House tends to want special prosecutors and independent counsel laws,\\u201d said Ken Gormley, president of Duquesne University in Pittsburgh and the author of two books on special prosecutors. \\u201dAs soon as the party is in the White House, they don\\u2019t want it anymore.\\u201d In modern times, the idea first cropped up during the 1970s. President Richard Nixon notoriously fired a special prosecutor who was getting close to the tapes that would bring down his administration. Five months after what became known as the Saturday Night Massacre, Congress started work on an independent counsel law. The idea was to insulate sensitive criminal investigations from meddling by the White House. The law would stand for about 20 years. It didn\\u2019t produce many criminal convictions, but it did stir up a lot of trouble for presidents  \\u2014   and the people close to them. In 1996, Hillary Clinton became the first sitting first lady to testify before a grand jury. This one was investigating the Whitewater affair, an investigation that began with a real estate investment and morphed into scrutiny of President Bill Clinton\\u2019s sexual improprieties. Hillary Clinton was never charged with wrongdoing, but the investigation left a mark. Years later, Gormley interviewed Bill Clinton about it. \\u201dHe made clear that his decision to allow and endorse the appointment of an independent counsel in the Whitewater matter was one of the biggest mistakes of his presidency,\\u201d Gormley said. \\u201dIn fact, the words he used at one point is that it was like Wile E. Coyote and the Road Runner. And almost from the moment he was in the White House, there were political opponents using special prosecutors to bring him down, and they were off to the races.\\u201d By 1999, when Congress considered whether to renew the statute, opposition came from nearly all sides. Even Whitewater independent counsel Ken Starr told Congress the law had become a political weapon. \\u201dThe statutory mechanism intended to enhance confidence in law enforcement had the effect of weakening it,\\u201d Starr said, in arguing the law should not be reauthorized. \\u201dJurisdiction and authority over these sensitive matters ought to be returned to the Justice Department. And who will oversee them? The Congress, the press, the public.\\u201d That\\u2019s exactly what happened. The law expired. But the Justice Department can still use special prosecutors. They\\u2019re career lawyers, protected from political leaders at Justice by a firewall. During the George W. Bush years, special prosecutor Patrick Fitzgerald charged and convicted a top aide to the vice president. Justice Department leaders went on to deploy special prosecutors to investigate the firings of U. S. attorneys and the destruction of videotapes that showed torture of detainees. But authorities have relied on those prosecutors only sparingly, a position adopted by many, including Gormley. \\u201dI think I\\u2019ve come to the conclusion that we are better off when we have less of these investigations rather than more,\\u201d he said. \\u201dThey should be reserved for very special and extreme occasions.\\u201d Otherwise, Gormley argued, they could distract from what\\u2019s really important. \\u201dAs we as a country were just obsessed with the issue of Whitewater, Paula Jones, Monica Lewinsky and all of these distractions during the 1990s, there were people inside and outside the country literally plotting our attack,\\u201d he said. One of them, Gormley said, was Osama bin Laden.\"\n        ],\n        \"semantic_type\": \"\",\n        \"description\": \"\"\n      }\n    },\n    {\n      \"column\": \"Topic\",\n      \"properties\": {\n        \"dtype\": \"number\",\n        \"std\": 1,\n        \"min\": 0,\n        \"max\": 6,\n        \"num_unique_values\": 7,\n        \"samples\": [\n          1,\n          2,\n          4\n        ],\n        \"semantic_type\": \"\",\n        \"description\": \"\"\n      }\n    }\n  ]\n}"
            }
          },
          "metadata": {},
          "execution_count": 48
        }
      ]
    },
    {
      "cell_type": "markdown",
      "source": [
        "Testing"
      ],
      "metadata": {
        "id": "2q_36UCP1GNw"
      }
    },
    {
      "cell_type": "code",
      "source": [
        "npr['Article'][0]"
      ],
      "metadata": {
        "colab": {
          "base_uri": "https://localhost:8080/",
          "height": 192
        },
        "id": "QkFcGiPG1GeY",
        "outputId": "17c1a8e0-2893-41c3-eff5-612ae49b1d24"
      },
      "execution_count": 49,
      "outputs": [
        {
          "output_type": "execute_result",
          "data": {
            "text/plain": [
              "'In the Washington of 2016, even when the policy can be bipartisan, the politics cannot. And in that sense, this year shows little sign of ending on Dec. 31. When President Obama moved to sanction Russia over its alleged interference in the U. S. election just concluded, some Republicans who had long called for similar or more severe measures could scarcely bring themselves to approve. House Speaker Paul Ryan called the Obama measures ”appropriate” but also ”overdue” and ”a prime example of this administration’s ineffective foreign policy that has left America weaker in the eyes of the world.” Other GOP leaders sounded much the same theme. ”[We have] been urging President Obama for years to take strong action to deter Russia’s worldwide aggression, including its   operations,” wrote Rep. Devin Nunes,  . chairman of the House Intelligence Committee. ”Now with just a few weeks left in office, the president has suddenly decided that some stronger measures are indeed warranted.” Appearing on CNN, frequent Obama critic Trent Franks,  . called for ”much tougher” actions and said three times that Obama had ”finally found his tongue.” Meanwhile, at    and on Fox News, various spokesmen for   Trump said Obama’s real target was not the Russians at all but the man poised to take over the White House in less than three weeks. They spoke of Obama trying to ”tie Trump’s hands” or ”box him in,” meaning the   would be forced either to keep the sanctions or be at odds with Republicans who want to be tougher still on Moscow. Throughout 2016, Trump has repeatedly called not for sanctions but for closer ties with Russia, including cooperation in the fight against ISIS. Russia has battled ISIS in Syria on behalf of that country’s embattled dictator, Bashar Assad, bombing the besieged   city of Aleppo that fell to Assad’s forces this week. During the campaign, Trump even urged Russia to ”find” missing emails from the private server of his opponent, Hillary Clinton. He has exchanged public encomiums with Russian President Vladimir Putin on several occasions and added his doubts about the current U. S. levels of support for NATO  —   Putin’s longtime nemesis. There have also been suggestions that Trump’s extensive business dealings with various Russians are the reason he refuses to release his tax returns. All those issues have been disquieting to some Republicans for many months. Sens. John McCain,  . and Lindsay Graham,  . C. prominent senior members of the Armed Services Committee, have accepted the assessment of 17 U. S. intelligence agencies regarding the role of Russia in the hacking of various Democratic committees last year. That includes the FBI and CIA consensus that the Russian goal was not just to discredit American democracy but to defeat Clinton and elect Trump. They say the great majority of their Senate colleagues agree with them, and McCain has slated an Armed Services hearing on cyberthreats for Jan. 5. But the politicizing of the Russian actions  —   the idea that they helped Trump win  —   has also made the issue difficult for Republican leaders. It has allowed Trump supporters to push back on the intelligence agencies and say the entire issue is designed to undermine Trump’s legitimacy. Senate Majority Leader Mitch McConnell has so far resisted calls for a select committee to look into the Russian interference in the 2016 campaign. He has said it is enough for Sen. Richard Burr,  . C. to look into it as chairman of the Senate Intelligence Committee. Typically, Republican leaders and spokesmen say there is no evidence that the actual voting or tallying on Nov. 8 was compromised, and that is true. But it is also a red herring, as interference in those functions has not been alleged and is not the focus of the U. S. intelligence agencies’ concern. For his part, Trump has shown little interest in delving into what happened. He has cast doubt on the U. S. intelligence reports to date and suggested ”no one really knows what happened.” He also has suggested that computers make it very difficult to know who is using them. This week, Trump said it was time to ”get on with our lives and do more important things.” However, at week’s end he did agree to have an intelligence briefing on the subject next week. The   has not wanted the daily intelligence briefings available to him in recent weeks, preferring that they be given to the men he has chosen as his vice president (Mike Pence) and national security adviser (Mike Flynn) with Trump taking them only occasionally. The irony of this controversy arising at the eleventh hour of the Obama presidency can scarcely be overstated, and it defines the dilemma facing both the outgoing president and the incoming party in control. Obama appears to have been reluctant to retaliate against the Russian hacking before the election for fear of seeming to interfere with the election himself. The Republicans, meanwhile, have for years called for greater confrontation with the Russians, with Obama usually resisting. Obama did join with NATO in punishing the Russians with economic sanctions over the annexation of Crimea. Those sanctions may have been painful, coming as they did alongside falling prices for oil  —   the commodity that keeps the Russian economy afloat. On other occasions, despite Russian provocations through surrogates in Syria and elsewhere, Obama did not make overt moves to force Russia’s hand. That includes occasions when Russia was believed to be hacking critical computer systems in neighboring Ukraine, Estonia and Poland. But this week, following a chorus of confirmation from the U. S. intelligence community regarding the Russian role in computer hacking in the political campaign, Obama acted. He imposed a set of mostly diplomatic actions such as sanctioning some Russian officials, closing two diplomatic compounds and expelling 35 Russian diplomats. There may have been more damaging measures taken covertly, and some Russophobes in Washington held out hope for that. But the visible portion of the program scarcely amounted to major retribution. And Putin saw fit to diminish the Obama sanctions further by declining to respond. Although his government has steadfastly denied any interference in the U. S. election, Putin rejected his own foreign minister’s recommended package of    responses. (He even sent an invitation for U. S. diplomats to send their children to a holiday party in Moscow.) That allowed Putin to appear for the moment to be ”the bigger man,” even as he spurned Obama and kept up what has looked like a public bromance with Trump, who tweeted: ”Great move on delay (by V. Putin)   I always knew he was very smart!” At the moment it may seem that the overall Russia question amounts to the first crisis facing the Trump presidency. Whether forced by this campaign interference issue or not, Trump must grasp the nettle of a relationship Mitt Romney once called the greatest threat to U. S. security in the world. To be sure, Trump needs to dispel doubts about his ability to stand up to Putin, who has bullied and cajoled his way to center stage in recent world affairs. But Trump also seems determined to turn the page on past U. S. commitments, from free trade philosophy to funding of NATO and the United Nations. And if his Twitter account is any guide, Trump shows little concern about the conundrum others perceive to be facing him. Above all, Trump has shown himself determined to play by his own rules. A year ago, many were confident that would not work for him in the world of presidential politics. We are about to find out whether it works for him in the Oval Office.'"
            ],
            "application/vnd.google.colaboratory.intrinsic+json": {
              "type": "string"
            }
          },
          "metadata": {},
          "execution_count": 49
        }
      ]
    },
    {
      "cell_type": "markdown",
      "source": [
        "Well it sure looks like something to do with policy and healthcare."
      ],
      "metadata": {
        "id": "QG_0bo4y1O3_"
      }
    }
  ]
}